{
 "cells": [
  {
   "attachments": {},
   "cell_type": "markdown",
   "metadata": {},
   "source": [
    "# Task B\n",
    "In general, a basic neural network architecture can be considered that consists of an input  \n",
    "layer, one or more hidden layers, and an output layer.  \n",
    "\n",
    "You  are  supposed  to  build  15  distinct  artificial  neural  network  classifiers  by  varying  one  or \n",
    "more paramours from the following list: \n",
    "\n",
    "- (i). Number of hidden layers – 2 or 3\n",
    "- (ii) Total number of neurons in the hidden layer is 100 or 150\n",
    "- (iii) Activation function is from any of the following functions: tanh, sigmoid, ReLu\n",
    "\n",
    "---\n",
    "\n",
    "You need to train your network on the MNIST dataset. You can use any optimization algorithm \n",
    "like  stochastic  gradient  descent  or  Adam  optimizer.  You  need  to  evaluate  your  network's \n",
    "performance on a test set of images from the MNIST dataset. You can calculate the accuracy and \n",
    "confusion matrix to measure your network's performance. \n",
    "Perform a comparative study of these 15 models and figure out the best classifier. Do you have \n",
    "a classifier that  is not statistically significant from the best classifier? Detail the results with all \n",
    "explanations."
   ]
  },
  {
   "attachments": {},
   "cell_type": "markdown",
   "metadata": {},
   "source": [
    "## Importing the Libraries"
   ]
  },
  {
   "cell_type": "code",
   "execution_count": 2,
   "metadata": {},
   "outputs": [],
   "source": [
    "# Importing PyTorch\n",
    "import torch\n",
    "from torch import nn\n",
    "import numpy as np\n",
    "import matplotlib.pyplot as plt\n",
    "import sklearn.metrics as metrics\n",
    "\n",
    "# Importing TorchVision\n",
    "import torchvision\n",
    "from torchvision import datasets\n",
    "from torchvision.transforms import ToTensor\n",
    "\n",
    "import warnings\n",
    "warnings.filterwarnings(\"ignore\")"
   ]
  },
  {
   "cell_type": "code",
   "execution_count": 3,
   "metadata": {},
   "outputs": [
    {
     "name": "stdout",
     "output_type": "stream",
     "text": [
      "PyTorch version: 2.0.0+cpu\n",
      "torchvision version: 0.15.1+cpu\n"
     ]
    }
   ],
   "source": [
    "print(f\"PyTorch version: {torch.__version__}\\ntorchvision version: {torchvision.__version__}\")"
   ]
  },
  {
   "cell_type": "markdown",
   "metadata": {},
   "source": [
    "## Importing the Dataset"
   ]
  },
  {
   "cell_type": "code",
   "execution_count": 4,
   "metadata": {},
   "outputs": [],
   "source": [
    "train_data = datasets.MNIST(\n",
    "    root='data',\n",
    "    train=True,\n",
    "    download=True,\n",
    "    transform=ToTensor(),\n",
    "    target_transform=None\n",
    ")\n",
    "\n",
    "test_data = datasets.MNIST(\n",
    "    root='data',\n",
    "    train=False,\n",
    "    download=True,\n",
    "    transform=ToTensor(),\n",
    "    target_transform=None\n",
    ")"
   ]
  },
  {
   "cell_type": "code",
   "execution_count": 5,
   "metadata": {},
   "outputs": [
    {
     "name": "stdout",
     "output_type": "stream",
     "text": [
      "5\n"
     ]
    },
    {
     "data": {
      "image/png": "[encoded data removed]",
      "text/plain": [
       "<Figure size 480x480 with 1 Axes>"
      ]
     },
     "metadata": {},
     "output_type": "display_data"
    }
   ],
   "source": [
    "# Check one of the data set\n",
    "image, label = train_data[0]\n",
    "\n",
    "# Print the image\n",
    "plt.matshow(image[0])\n",
    "\n",
    "# Print the output\n",
    "print(label)"
   ]
  },
  {
   "cell_type": "code",
   "execution_count": 6,
   "metadata": {},
   "outputs": [
    {
     "data": {
      "text/plain": [
       "torch.Size([1, 28, 28])"
      ]
     },
     "execution_count": 6,
     "metadata": {},
     "output_type": "execute_result"
    }
   ],
   "source": [
    "image.shape"
   ]
  },
  {
   "cell_type": "code",
   "execution_count": 7,
   "metadata": {},
   "outputs": [
    {
     "data": {
      "text/plain": [
       "(60000, 10000, 60000, 10000)"
      ]
     },
     "execution_count": 7,
     "metadata": {},
     "output_type": "execute_result"
    }
   ],
   "source": [
    "# Let's check the size of datasets\n",
    "len(train_data.data), len(test_data.data), len(train_data.targets), len(test_data.targets)"
   ]
  },
  {
   "cell_type": "markdown",
   "metadata": {},
   "source": [
    "## Loading the Data"
   ]
  },
  {
   "cell_type": "code",
   "execution_count": 8,
   "metadata": {},
   "outputs": [
    {
     "name": "stdout",
     "output_type": "stream",
     "text": [
      "Dataloaders: <torch.utils.data.dataloader.DataLoader object at 0x000001E3F4471AC0>, <torch.utils.data.dataloader.DataLoader object at 0x000001E3F44713D0>\n",
      "Length of train dataloader: 600 batches of 100\n",
      "Length of test dataloader: 10000\n"
     ]
    }
   ],
   "source": [
    "# What this step is practically doing is converting all the data into batches of 32\n",
    "# And returning the iterables to us\n",
    "\n",
    "from torch.utils.data import DataLoader\n",
    "\n",
    "train_data_loader = DataLoader(\n",
    "    dataset=train_data,\n",
    "    batch_size=100,\n",
    "    shuffle=True\n",
    ")\n",
    "\n",
    "test_data_loader = DataLoader(\n",
    "    dataset=test_data,\n",
    "    shuffle=False\n",
    ")\n",
    "\n",
    "print(f\"Dataloaders: {train_data_loader}, {test_data_loader}\")\n",
    "print(f\"Length of train dataloader: {len(train_data_loader)} batches of {100}\")\n",
    "print(f\"Length of test dataloader: {len(test_data_loader)}\")\n"
   ]
  },
  {
   "attachments": {},
   "cell_type": "markdown",
   "metadata": {},
   "source": [
    "## Making the Model"
   ]
  },
  {
   "cell_type": "code",
   "execution_count": 9,
   "metadata": {},
   "outputs": [],
   "source": [
    "class MNISTModel(nn.Module):\n",
    "    def __init__(self, input_shape, hidden_layers, hidden_units, activation_func, output_shape, subtract=False):\n",
    "        # Call the super class's init function\n",
    "        super().__init__()\n",
    "        \n",
    "        self.layer_stack = nn.Sequential(\n",
    "            nn.Flatten(),\n",
    "            nn.Linear(in_features=input_shape, out_features=hidden_units),\n",
    "            nn.ReLU(),\n",
    "        )\n",
    "        self.hidden_units = hidden_units\n",
    "        \n",
    "        for i in range(hidden_layers):\n",
    "            if(subtract == True):\n",
    "                self.layer_stack.append(nn.Linear(in_features=self.hidden_units, out_features=self.hidden_units - 50))\n",
    "            else:\n",
    "                self.layer_stack.append(nn.Linear(in_features=self.hidden_units, out_features=self.hidden_units))\n",
    "            \n",
    "            if(subtract == True):\n",
    "                self.hidden_units -= 50\n",
    "                \n",
    "            if activation_func == \"t\":\n",
    "                self.layer_stack.append(nn.Tanh())\n",
    "            elif activation_func == \"s\":\n",
    "                self.layer_stack.append(nn.Sigmoid())\n",
    "            elif activation_func == \"r\":\n",
    "                self.layer_stack.append(nn.ReLU())\n",
    "        \n",
    "        self.layer_stack.append(nn.Linear(in_features=self.hidden_units, out_features=output_shape))\n",
    "        self.layer_stack.append(nn.LogSoftmax())\n",
    "    \n",
    "    def forward(self, x):\n",
    "        return self.layer_stack(x)"
   ]
  },
  {
   "attachments": {},
   "cell_type": "markdown",
   "metadata": {},
   "source": [
    "## Writing Loss Functions"
   ]
  },
  {
   "cell_type": "code",
   "execution_count": 10,
   "metadata": {},
   "outputs": [
    {
     "data": {
      "text/plain": [
       "MNISTModel(\n",
       "  (layer_stack): Sequential(\n",
       "    (0): Flatten(start_dim=1, end_dim=-1)\n",
       "    (1): Linear(in_features=784, out_features=100, bias=True)\n",
       "    (2): ReLU()\n",
       "    (3): Linear(in_features=100, out_features=100, bias=True)\n",
       "    (4): Sigmoid()\n",
       "    (5): Linear(in_features=100, out_features=100, bias=True)\n",
       "    (6): Sigmoid()\n",
       "    (7): Linear(in_features=100, out_features=100, bias=True)\n",
       "    (8): Sigmoid()\n",
       "    (9): Linear(in_features=100, out_features=10, bias=True)\n",
       "    (10): LogSoftmax(dim=None)\n",
       "  )\n",
       ")"
      ]
     },
     "execution_count": 10,
     "metadata": {},
     "output_type": "execute_result"
    }
   ],
   "source": [
    "mnistModel = MNISTModel(\n",
    "    input_shape=784,\n",
    "    hidden_layers=3,\n",
    "    hidden_units=100,\n",
    "    output_shape=10,\n",
    "    activation_func=\"s\"\n",
    ")\n",
    "mnistModel.to('cpu')"
   ]
  },
  {
   "cell_type": "code",
   "execution_count": 11,
   "metadata": {},
   "outputs": [],
   "source": [
    "loss_fn = nn.CrossEntropyLoss()\n",
    "optimizer = torch.optim.Adam(mnistModel.parameters(), lr=0.001)"
   ]
  },
  {
   "cell_type": "markdown",
   "metadata": {},
   "source": [
    "## Training the Model"
   ]
  },
  {
   "cell_type": "code",
   "execution_count": 12,
   "metadata": {},
   "outputs": [],
   "source": [
    "# ---------Training---------\n",
    "epochs = 10\n",
    "\n",
    "# Create the training and testing loop\n",
    "for epoch in range(epochs):    \n",
    "        \n",
    "    for batch, (X, y) in enumerate(train_data_loader):\n",
    "        # Train the model\n",
    "        mnistModel.train()\n",
    "        # Generate Value\n",
    "        y_pred = mnistModel(X)\n",
    "        # Generate loss from loss function\n",
    "        loss = loss_fn(y_pred, y)\n",
    "        # Optimize :)\n",
    "        # Apparently this sets all gradients to zero\n",
    "        optimizer.zero_grad()\n",
    "        # Back Propagate\n",
    "        loss.backward()\n",
    "        optimizer.step()\n",
    "    \n",
    "        # if (batch+1) % 2 == 0:\n",
    "        #         print (f'Epoch [{epoch+1}/{epochs}], Step[{batch+1}/{len(train_data_loader)}], Loss: {loss.item():.4f}')\n",
    "\n",
    "        "
   ]
  },
  {
   "attachments": {},
   "cell_type": "markdown",
   "metadata": {},
   "source": [
    "## Testing the Model"
   ]
  },
  {
   "attachments": {},
   "cell_type": "markdown",
   "metadata": {},
   "source": [
    "### Checking Accuracy"
   ]
  },
  {
   "cell_type": "code",
   "execution_count": 14,
   "metadata": {},
   "outputs": [],
   "source": [
    "with torch.no_grad():\n",
    "    n_correct = 0\n",
    "    n_samples = 0\n",
    "    \n",
    "    y_pred = []\n",
    "    y_true = []\n",
    "\n",
    "    # We loop through all the test data\n",
    "    for images, labels in test_data_loader:\n",
    "        # Generate output for one model\n",
    "        outputs = mnistModel(images)\n",
    "        # Max returns (value ,index) i.e we need to check which digit has higher probability\n",
    "        _, predicted = torch.max(outputs.data, 1)\n",
    "        y_pred.append(predicted[0])\n",
    "        y_true.append(labels[0])"
   ]
  },
  {
   "cell_type": "code",
   "execution_count": 16,
   "metadata": {},
   "outputs": [
    {
     "name": "stdout",
     "output_type": "stream",
     "text": [
      "[[ 967    0    1    1    1    3    1    1    2    3]\n",
      " [   0 1127    3    1    0    1    1    0    2    0]\n",
      " [   5    6  987   11    1    0    1   13    8    0]\n",
      " [   0    0    1  992    0    3    0    3    6    5]\n",
      " [   0    1    3    0  941    3    4    2    6   22]\n",
      " [   1    0    0   24    1  841    1    0   15    9]\n",
      " [   7    2    3    0   10    7  922    0    7    0]\n",
      " [   1   11    6    3    0    0    0  996    2    9]\n",
      " [   2    2    2    7    1    2    1    5  948    4]\n",
      " [   1    4    0   11    5    2    1    6   11  968]]\n"
     ]
    }
   ],
   "source": [
    "import sklearn.metrics as metrics\n",
    "\n",
    "print(metrics.confusion_matrix(y_true, y_pred))"
   ]
  },
  {
   "cell_type": "code",
   "execution_count": null,
   "metadata": {},
   "outputs": [],
   "source": [
    "print(\"Classification report for ANN :\\n%s\\n\"\n",
    "      % (metrics.classification_report(y_true, y_pred, digits=6)))"
   ]
  },
  {
   "attachments": {},
   "cell_type": "markdown",
   "metadata": {},
   "source": [
    "## Iterating through all models\n"
   ]
  },
  {
   "cell_type": "code",
   "execution_count": null,
   "metadata": {},
   "outputs": [],
   "source": [
    "def iterate_through_12():\n",
    "    hidden_sizes = [2, 3]\n",
    "    neurons_in_hidden_layers = [100, 150]\n",
    "    activation_functions = [\"t\", \"s\", \"r\"]\n",
    "    epochs = 100\n",
    "    model_no = 0\n",
    "\n",
    "    for hs in hidden_sizes:\n",
    "        for nihl in neurons_in_hidden_layers:\n",
    "            for af in activation_functions:\n",
    "                model_no += 1\n",
    "                \n",
    "                mnistModel = MNISTModel(\n",
    "                    input_shape=784,\n",
    "                    hidden_layers=hs,\n",
    "                    hidden_units=nihl,\n",
    "                    output_shape=10,\n",
    "                    activation_func=af\n",
    "                )\n",
    "                \n",
    "                print(f\"Model #{model_no}\")\n",
    "                \n",
    "                loss_fn = nn.CrossEntropyLoss()\n",
    "                optimizer = torch.optim.Adam(mnistModel.parameters(), lr=0.001)\n",
    "\n",
    "                # ---------Training---------\n",
    "                # Create the training and testing loop\n",
    "                for epoch in range(epochs):    \n",
    "                        \n",
    "                    for batch, (X, y) in enumerate(train_data_loader):\n",
    "                        # Train the model\n",
    "                        mnistModel.train()\n",
    "                        # Generate Value\n",
    "                        y_pred = mnistModel(X)\n",
    "                        # Generate loss from loss function\n",
    "                        loss = loss_fn(y_pred, y)\n",
    "                        # Optimize :)\n",
    "                        # Apparently this sets all gradients to zero\n",
    "                        optimizer.zero_grad()\n",
    "                        # Back Propagate\n",
    "                        loss.backward()\n",
    "                        optimizer.step()\n",
    "                        \n",
    "                        # Debugging Purposes only, Do not use in the loop\n",
    "                        # if (batch+1) % 100 == 0:\n",
    "                        #         print (f'Epoch [{epoch+1}/{epochs}], Step[{batch+1}/{len(train_data_loader)}], Loss: {loss.item():.4f}')\n",
    "\n",
    "                with torch.no_grad():                \n",
    "                    y_pred = []\n",
    "                    y_true = []\n",
    "\n",
    "                    # We loop through all the test data\n",
    "                    for images, labels in test_data_loader:\n",
    "                        # Generate output for one model\n",
    "                        outputs = mnistModel(images)\n",
    "                        # Max returns (value ,index) i.e we need to check which digit has higher probability\n",
    "                        _, predicted = torch.max(outputs.data, 1)\n",
    "                        y_pred.append(predicted[0])\n",
    "                        y_true.append(labels[0])\n",
    "\n",
    "                print(metrics.confusion_matrix(y_true, y_pred))\n",
    "                print(f\"Classification report for Hidden Layers: {hs}, Neurons in Each Hidden Layer: {nihl}, Activation Function: {af} :\\n%s\\n\"\n",
    "                    % (metrics.classification_report(y_true, y_pred, digits=6)))"
   ]
  },
  {
   "attachments": {},
   "cell_type": "markdown",
   "metadata": {},
   "source": [
    "### Model #1-#12"
   ]
  },
  {
   "cell_type": "code",
   "execution_count": null,
   "metadata": {},
   "outputs": [],
   "source": [
    "iterate_through_12()"
   ]
  },
  {
   "attachments": {},
   "cell_type": "markdown",
   "metadata": {},
   "source": [
    "### Model #13"
   ]
  },
  {
   "cell_type": "code",
   "execution_count": 16,
   "metadata": {},
   "outputs": [
    {
     "name": "stdout",
     "output_type": "stream",
     "text": [
      "MNISTModel(\n",
      "  (layer_stack): Sequential(\n",
      "    (0): Flatten(start_dim=1, end_dim=-1)\n",
      "    (1): Linear(in_features=784, out_features=150, bias=True)\n",
      "    (2): ReLU()\n",
      "    (3): Linear(in_features=150, out_features=100, bias=True)\n",
      "    (4): Tanh()\n",
      "    (5): Linear(in_features=100, out_features=50, bias=True)\n",
      "    (6): Tanh()\n",
      "    (7): Linear(in_features=50, out_features=10, bias=True)\n",
      "    (8): LogSoftmax(dim=None)\n",
      "  )\n",
      ")\n",
      "Classification report for Hidden Layers: 2, Neurons in Each Hidden Layer: 150, Activation Function: t :\n",
      "              precision    recall  f1-score   support\n",
      "\n",
      "           0   0.967033  0.987755  0.977284       980\n",
      "           1   0.982456  0.986784  0.984615      1135\n",
      "           2   0.933583  0.967054  0.950024      1032\n",
      "           3   0.947368  0.944554  0.945959      1010\n",
      "           4   0.966632  0.943992  0.955178       982\n",
      "           5   0.967630  0.938341  0.952760       892\n",
      "           6   0.978678  0.958246  0.968354       958\n",
      "           7   0.952565  0.957198  0.954876      1028\n",
      "           8   0.939611  0.942505  0.941056       974\n",
      "           9   0.937685  0.939544  0.938614      1009\n",
      "\n",
      "    accuracy                       0.957200     10000\n",
      "   macro avg   0.957324  0.956597  0.956872     10000\n",
      "weighted avg   0.957355  0.957200  0.957191     10000\n",
      "\n",
      "\n"
     ]
    }
   ],
   "source": [
    "mnistModel = MNISTModel(\n",
    "    input_shape=784,\n",
    "    hidden_layers=2,\n",
    "    hidden_units=150,\n",
    "    output_shape=10,\n",
    "    activation_func=\"t\",\n",
    "    subtract=True\n",
    ")\n",
    "\n",
    "print(mnistModel)\n",
    "\n",
    "loss_fn = nn.CrossEntropyLoss()\n",
    "optimizer = torch.optim.Adam(mnistModel.parameters(), lr=0.001)\n",
    "\n",
    "# ---------Training---------\n",
    "# Create the training and testing loop\n",
    "for epoch in range(1):\n",
    "    for batch, (X, y) in enumerate(train_data_loader):\n",
    "        # Train the model\n",
    "        mnistModel.train()\n",
    "        # Generate Value\n",
    "        y_pred = mnistModel(X)\n",
    "        # Generate loss from loss function\n",
    "        loss = loss_fn(y_pred, y)\n",
    "        # Optimize :)\n",
    "        # Apparently this sets all gradients to zero\n",
    "        optimizer.zero_grad()\n",
    "        # Back Propagate\n",
    "        loss.backward()\n",
    "        optimizer.step()\n",
    "\n",
    "        # Debugging Purposes only, Do not use in the loop\n",
    "        # if (batch+1) % 100 == 0:\n",
    "        #         print (f'Epoch [{epoch+1}/{epochs}], Step[{batch+1}/{len(train_data_loader)}], Loss: {loss.item():.4f}')\n",
    "\n",
    "with torch.no_grad():\n",
    "    y_pred = []\n",
    "    y_true = []\n",
    "\n",
    "    # We loop through all the test data\n",
    "    for images, labels in test_data_loader:\n",
    "        # Generate output for one model\n",
    "        outputs = mnistModel(images)\n",
    "        # Max returns (value ,index) i.e we need to check which digit has higher probability\n",
    "        _, predicted = torch.max(outputs.data, 1)\n",
    "        y_pred.append(predicted[0])\n",
    "        y_true.append(labels[0])\n",
    "\n",
    "print(metrics.confusion_matrix(y_true, y_pred))\n",
    "print(f\"Classification report for Hidden Layers: 2, Neurons in Each Hidden Layer: 150, Activation Function: t :\\n%s\\n\" % (metrics.classification_report(y_true, y_pred, digits=6)))"
   ]
  },
  {
   "attachments": {},
   "cell_type": "markdown",
   "metadata": {},
   "source": [
    "### Model #14"
   ]
  },
  {
   "cell_type": "code",
   "execution_count": null,
   "metadata": {},
   "outputs": [],
   "source": [
    "mnistModel = MNISTModel(\n",
    "    input_shape=784,\n",
    "    hidden_layers=2,\n",
    "    hidden_units=150,\n",
    "    output_shape=10,\n",
    "    activation_func=\"s\"\n",
    ")\n",
    "\n",
    "loss_fn = nn.CrossEntropyLoss()\n",
    "optimizer = torch.optim.Adam(mnistModel.parameters(), lr=0.001)\n",
    "\n",
    "# ---------Training---------\n",
    "# Create the training and testing loop\n",
    "for epoch in range(100):\n",
    "    for batch, (X, y) in enumerate(train_data_loader):\n",
    "        # Train the model\n",
    "        mnistModel.train()\n",
    "        # Generate Value\n",
    "        y_pred = mnistModel(X)\n",
    "        # Generate loss from loss function\n",
    "        loss = loss_fn(y_pred, y)\n",
    "        # Optimize :)\n",
    "        # Apparently this sets all gradients to zero\n",
    "        optimizer.zero_grad()\n",
    "        # Back Propagate\n",
    "        loss.backward()\n",
    "        optimizer.step()\n",
    "\n",
    "        # Debugging Purposes only, Do not use in the loop\n",
    "        # if (batch+1) % 100 == 0:\n",
    "        #         print (f'Epoch [{epoch+1}/{epochs}], Step[{batch+1}/{len(train_data_loader)}], Loss: {loss.item():.4f}')\n",
    "\n",
    "with torch.no_grad():\n",
    "    y_pred = []\n",
    "    y_true = []\n",
    "\n",
    "    # We loop through all the test data\n",
    "    for images, labels in test_data_loader:\n",
    "        # Generate output for one model\n",
    "        outputs = mnistModel(images)\n",
    "        # Max returns (value ,index) i.e we need to check which digit has higher probability\n",
    "        _, predicted = torch.max(outputs.data, 1)\n",
    "        y_pred.append(predicted[0])\n",
    "        y_true.append(labels[0])\n",
    "\n",
    "print(metrics.confusion_matrix(y_true, y_pred))\n",
    "print(f\"Classification report for Hidden Layers: 2, Neurons in Each Hidden Layer: 150, Activation Function: t :\\n%s\\n\" % (metrics.classification_report(y_true, y_pred, digits=6)))"
   ]
  },
  {
   "attachments": {},
   "cell_type": "markdown",
   "metadata": {},
   "source": [
    "### Model #15"
   ]
  },
  {
   "cell_type": "code",
   "execution_count": null,
   "metadata": {},
   "outputs": [],
   "source": [
    "mnistModel = MNISTModel(\n",
    "    input_shape=784,\n",
    "    hidden_layers=2,\n",
    "    hidden_units=150,\n",
    "    output_shape=10,\n",
    "    activation_func=\"r\"\n",
    ")\n",
    "\n",
    "loss_fn = nn.CrossEntropyLoss()\n",
    "optimizer = torch.optim.Adam(mnistModel.parameters(), lr=0.001)\n",
    "\n",
    "# ---------Training---------\n",
    "# Create the training and testing loop\n",
    "for epoch in range(100):\n",
    "    for batch, (X, y) in enumerate(train_data_loader):\n",
    "        # Train the model\n",
    "        mnistModel.train()\n",
    "        # Generate Value\n",
    "        y_pred = mnistModel(X)\n",
    "        # Generate loss from loss function\n",
    "        loss = loss_fn(y_pred, y)\n",
    "        # Optimize :)\n",
    "        # Apparently this sets all gradients to zero\n",
    "        optimizer.zero_grad()\n",
    "        # Back Propagate\n",
    "        loss.backward()\n",
    "        optimizer.step()\n",
    "\n",
    "        # Debugging Purposes only, Do not use in the loop\n",
    "        # if (batch+1) % 100 == 0:\n",
    "        #         print (f'Epoch [{epoch+1}/{epochs}], Step[{batch+1}/{len(train_data_loader)}], Loss: {loss.item():.4f}')\n",
    "\n",
    "with torch.no_grad():\n",
    "    y_pred = []\n",
    "    y_true = []\n",
    "\n",
    "    # We loop through all the test data\n",
    "    for images, labels in test_data_loader:\n",
    "        # Generate output for one model\n",
    "        outputs = mnistModel(images)\n",
    "        # Max returns (value ,index) i.e we need to check which digit has higher probability\n",
    "        _, predicted = torch.max(outputs.data, 1)\n",
    "        y_pred.append(predicted[0])\n",
    "        y_true.append(labels[0])\n",
    "\n",
    "print(metrics.confusion_matrix(y_true, y_pred))\n",
    "print(f\"Classification report for Hidden Layers: 2, Neurons in Each Hidden Layer: 150, Activation Function: t :\\n%s\\n\" % (metrics.classification_report(y_true, y_pred, digits=6)))"
   ]
  }
 ],
 "metadata": {
  "kernelspec": {
   "display_name": "base",
   "language": "python",
   "name": "python3"
  },
  "language_info": {
   "codemirror_mode": {
    "name": "ipython",
    "version": 3
   },
   "file_extension": ".py",
   "mimetype": "text/x-python",
   "name": "python",
   "nbconvert_exporter": "python",
   "pygments_lexer": "ipython3",
   "version": "3.9.13"
  },
  "orig_nbformat": 4
 },
 "nbformat": 4,
 "nbformat_minor": 2
}
