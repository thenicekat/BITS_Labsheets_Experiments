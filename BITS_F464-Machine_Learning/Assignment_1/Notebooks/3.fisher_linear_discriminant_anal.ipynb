{
 "cells": [
  {
   "cell_type": "markdown",
   "metadata": {},
   "source": [
    "# Fisher Linear Discriminant Analysis\n",
    "Learning Task 1: Build Fisher’s linear discriminant model (FLDM1) on the training data and thus \n",
    "reduce  32  dimensional  problem  to  univariate  dimensional  problem.  Find  out  the  decision \n",
    "boundary  in  the  univariate  dimension  using  generative  approach.  You  may  assume  gaussian \n",
    "distribution for both positive and negative classes in the univariate dimension.  \n",
    "\n",
    "Learning Task 2: Change the  order  of features in the  dataset  randomly. Equivalently speaking, \n",
    "for an example of feature tuple (f1, f2, f3, f4, . . , f32), consider a random permutation (f3, f1, f4, \n",
    "f2, f6, ....., f32) and build the Fisher’s linear discriminant model (FLDM2)  on  the  same  training \n",
    "data as in the learning task 1. Find out the decision boundary in the univariate dimension using \n",
    "generative approach and you may assume gaussian distribution  for both positive and negative \n",
    "classes  in  the  univariate  dimension.  Outline  the  difference  between  the  models  –  FLDM1  and \n",
    "FLDM2 - and their respective performances"
   ]
  },
  {
   "attachments": {},
   "cell_type": "markdown",
   "metadata": {},
   "source": [
    "## Importing Libraries"
   ]
  },
  {
   "cell_type": "code",
   "execution_count": 1,
   "metadata": {},
   "outputs": [],
   "source": [
    "import numpy as np\n",
    "import pandas as pd\n",
    "import matplotlib.pyplot as plt\n",
    "from utils.utils_ml import generate_confusion_matrix"
   ]
  },
  {
   "cell_type": "markdown",
   "metadata": {},
   "source": [
    "## Importing the dataset"
   ]
  },
  {
   "cell_type": "code",
   "execution_count": 2,
   "metadata": {},
   "outputs": [
    {
     "name": "stdout",
     "output_type": "stream",
     "text": [
      "(569, 32)\n"
     ]
    }
   ],
   "source": [
    "# Read the csv file\n",
    "dataset = pd.read_csv('../dataset.csv')\n",
    "print(dataset.shape)"
   ]
  },
  {
   "cell_type": "code",
   "execution_count": 3,
   "metadata": {},
   "outputs": [
    {
     "data": {
      "text/html": [
       "<div>\n",
       "<style scoped>\n",
       "    .dataframe tbody tr th:only-of-type {\n",
       "        vertical-align: middle;\n",
       "    }\n",
       "\n",
       "    .dataframe tbody tr th {\n",
       "        vertical-align: top;\n",
       "    }\n",
       "\n",
       "    .dataframe thead th {\n",
       "        text-align: right;\n",
       "    }\n",
       "</style>\n",
       "<table border=\"1\" class=\"dataframe\">\n",
       "  <thead>\n",
       "    <tr style=\"text-align: right;\">\n",
       "      <th></th>\n",
       "      <th>id</th>\n",
       "      <th>diagnosis</th>\n",
       "      <th>radius_mean</th>\n",
       "      <th>texture_mean</th>\n",
       "      <th>perimeter_mean</th>\n",
       "      <th>area_mean</th>\n",
       "      <th>smoothness_mean</th>\n",
       "      <th>compactness_mean</th>\n",
       "      <th>concavity_mean</th>\n",
       "      <th>concave points_mean</th>\n",
       "      <th>...</th>\n",
       "      <th>texture_worst</th>\n",
       "      <th>perimeter_worst</th>\n",
       "      <th>area_worst</th>\n",
       "      <th>smoothness_worst</th>\n",
       "      <th>compactness_worst</th>\n",
       "      <th>concavity_worst</th>\n",
       "      <th>concave points_worst</th>\n",
       "      <th>symmetry_worst</th>\n",
       "      <th>fractal_dimension_worst</th>\n",
       "      <th>cancer_type</th>\n",
       "    </tr>\n",
       "  </thead>\n",
       "  <tbody>\n",
       "    <tr>\n",
       "      <th>0</th>\n",
       "      <td>842302</td>\n",
       "      <td>M</td>\n",
       "      <td>17.99</td>\n",
       "      <td>10.38</td>\n",
       "      <td>122.80</td>\n",
       "      <td>1001.0</td>\n",
       "      <td>0.11840</td>\n",
       "      <td>0.27760</td>\n",
       "      <td>0.3001</td>\n",
       "      <td>0.14710</td>\n",
       "      <td>...</td>\n",
       "      <td>17.33</td>\n",
       "      <td>184.60</td>\n",
       "      <td>2019.0</td>\n",
       "      <td>0.1622</td>\n",
       "      <td>0.6656</td>\n",
       "      <td>0.7119</td>\n",
       "      <td>0.2654</td>\n",
       "      <td>0.4601</td>\n",
       "      <td>0.11890</td>\n",
       "      <td>0</td>\n",
       "    </tr>\n",
       "    <tr>\n",
       "      <th>1</th>\n",
       "      <td>842517</td>\n",
       "      <td>M</td>\n",
       "      <td>20.57</td>\n",
       "      <td>17.77</td>\n",
       "      <td>132.90</td>\n",
       "      <td>1326.0</td>\n",
       "      <td>0.08474</td>\n",
       "      <td>0.07864</td>\n",
       "      <td>0.0869</td>\n",
       "      <td>0.07017</td>\n",
       "      <td>...</td>\n",
       "      <td>23.41</td>\n",
       "      <td>158.80</td>\n",
       "      <td>1956.0</td>\n",
       "      <td>0.1238</td>\n",
       "      <td>0.1866</td>\n",
       "      <td>0.2416</td>\n",
       "      <td>0.1860</td>\n",
       "      <td>0.2750</td>\n",
       "      <td>0.08902</td>\n",
       "      <td>0</td>\n",
       "    </tr>\n",
       "    <tr>\n",
       "      <th>2</th>\n",
       "      <td>84300903</td>\n",
       "      <td>M</td>\n",
       "      <td>19.69</td>\n",
       "      <td>21.25</td>\n",
       "      <td>130.00</td>\n",
       "      <td>1203.0</td>\n",
       "      <td>0.10960</td>\n",
       "      <td>0.15990</td>\n",
       "      <td>0.1974</td>\n",
       "      <td>0.12790</td>\n",
       "      <td>...</td>\n",
       "      <td>25.53</td>\n",
       "      <td>152.50</td>\n",
       "      <td>1709.0</td>\n",
       "      <td>0.1444</td>\n",
       "      <td>0.4245</td>\n",
       "      <td>0.4504</td>\n",
       "      <td>0.2430</td>\n",
       "      <td>0.3613</td>\n",
       "      <td>0.08758</td>\n",
       "      <td>0</td>\n",
       "    </tr>\n",
       "    <tr>\n",
       "      <th>3</th>\n",
       "      <td>84348301</td>\n",
       "      <td>M</td>\n",
       "      <td>11.42</td>\n",
       "      <td>20.38</td>\n",
       "      <td>77.58</td>\n",
       "      <td>386.1</td>\n",
       "      <td>0.14250</td>\n",
       "      <td>0.28390</td>\n",
       "      <td>0.2414</td>\n",
       "      <td>0.10520</td>\n",
       "      <td>...</td>\n",
       "      <td>26.50</td>\n",
       "      <td>98.87</td>\n",
       "      <td>567.7</td>\n",
       "      <td>0.2098</td>\n",
       "      <td>0.8663</td>\n",
       "      <td>0.6869</td>\n",
       "      <td>0.2575</td>\n",
       "      <td>0.6638</td>\n",
       "      <td>0.17300</td>\n",
       "      <td>0</td>\n",
       "    </tr>\n",
       "    <tr>\n",
       "      <th>4</th>\n",
       "      <td>84358402</td>\n",
       "      <td>M</td>\n",
       "      <td>20.29</td>\n",
       "      <td>14.34</td>\n",
       "      <td>135.10</td>\n",
       "      <td>1297.0</td>\n",
       "      <td>0.10030</td>\n",
       "      <td>0.13280</td>\n",
       "      <td>0.1980</td>\n",
       "      <td>0.10430</td>\n",
       "      <td>...</td>\n",
       "      <td>16.67</td>\n",
       "      <td>152.20</td>\n",
       "      <td>1575.0</td>\n",
       "      <td>0.1374</td>\n",
       "      <td>0.2050</td>\n",
       "      <td>0.4000</td>\n",
       "      <td>0.1625</td>\n",
       "      <td>0.2364</td>\n",
       "      <td>0.07678</td>\n",
       "      <td>0</td>\n",
       "    </tr>\n",
       "  </tbody>\n",
       "</table>\n",
       "<p>5 rows × 33 columns</p>\n",
       "</div>"
      ],
      "text/plain": [
       "         id diagnosis  radius_mean  texture_mean  perimeter_mean  area_mean  \\\n",
       "0    842302         M        17.99         10.38          122.80     1001.0   \n",
       "1    842517         M        20.57         17.77          132.90     1326.0   \n",
       "2  84300903         M        19.69         21.25          130.00     1203.0   \n",
       "3  84348301         M        11.42         20.38           77.58      386.1   \n",
       "4  84358402         M        20.29         14.34          135.10     1297.0   \n",
       "\n",
       "   smoothness_mean  compactness_mean  concavity_mean  concave points_mean  \\\n",
       "0          0.11840           0.27760          0.3001              0.14710   \n",
       "1          0.08474           0.07864          0.0869              0.07017   \n",
       "2          0.10960           0.15990          0.1974              0.12790   \n",
       "3          0.14250           0.28390          0.2414              0.10520   \n",
       "4          0.10030           0.13280          0.1980              0.10430   \n",
       "\n",
       "   ...  texture_worst  perimeter_worst  area_worst  smoothness_worst  \\\n",
       "0  ...          17.33           184.60      2019.0            0.1622   \n",
       "1  ...          23.41           158.80      1956.0            0.1238   \n",
       "2  ...          25.53           152.50      1709.0            0.1444   \n",
       "3  ...          26.50            98.87       567.7            0.2098   \n",
       "4  ...          16.67           152.20      1575.0            0.1374   \n",
       "\n",
       "   compactness_worst  concavity_worst  concave points_worst  symmetry_worst  \\\n",
       "0             0.6656           0.7119                0.2654          0.4601   \n",
       "1             0.1866           0.2416                0.1860          0.2750   \n",
       "2             0.4245           0.4504                0.2430          0.3613   \n",
       "3             0.8663           0.6869                0.2575          0.6638   \n",
       "4             0.2050           0.4000                0.1625          0.2364   \n",
       "\n",
       "   fractal_dimension_worst  cancer_type  \n",
       "0                  0.11890            0  \n",
       "1                  0.08902            0  \n",
       "2                  0.08758            0  \n",
       "3                  0.17300            0  \n",
       "4                  0.07678            0  \n",
       "\n",
       "[5 rows x 33 columns]"
      ]
     },
     "execution_count": 3,
     "metadata": {},
     "output_type": "execute_result"
    }
   ],
   "source": [
    "# Convert cancer type into a new column\n",
    "dataset[\"cancer_type\"] = pd.factorize(dataset[\"diagnosis\"])[0]\n",
    "dataset.head()\n",
    "\n",
    "# Malignant is 0 and Benign is 1"
   ]
  },
  {
   "cell_type": "code",
   "execution_count": 4,
   "metadata": {},
   "outputs": [
    {
     "name": "stdout",
     "output_type": "stream",
     "text": [
      "Empty DataFrame\n",
      "Columns: [radius_mean, texture_mean, perimeter_mean, area_mean, smoothness_mean, compactness_mean, concavity_mean, concave points_mean, symmetry_mean, fractal_dimension_mean, radius_se, texture_se, perimeter_se, area_se, smoothness_se, compactness_se, concavity_se, concave points_se, symmetry_se, fractal_dimension_se, radius_worst, texture_worst, perimeter_worst, area_worst, smoothness_worst, compactness_worst, concavity_worst, concave points_worst, symmetry_worst, fractal_dimension_worst, cancer_type]\n",
      "Index: []\n",
      "\n",
      "[0 rows x 31 columns]\n",
      "   radius_mean  texture_mean  perimeter_mean  area_mean  smoothness_mean  \\\n",
      "0        17.99         10.38          122.80     1001.0          0.11840   \n",
      "1        20.57         17.77          132.90     1326.0          0.08474   \n",
      "2        19.69         21.25          130.00     1203.0          0.10960   \n",
      "3        11.42         20.38           77.58      386.1          0.14250   \n",
      "4        20.29         14.34          135.10     1297.0          0.10030   \n",
      "\n",
      "   compactness_mean  concavity_mean  concave points_mean  symmetry_mean  \\\n",
      "0           0.27760          0.3001              0.14710         0.2419   \n",
      "1           0.07864          0.0869              0.07017         0.1812   \n",
      "2           0.15990          0.1974              0.12790         0.2069   \n",
      "3           0.28390          0.2414              0.10520         0.2597   \n",
      "4           0.13280          0.1980              0.10430         0.1809   \n",
      "\n",
      "   fractal_dimension_mean  ...  texture_worst  perimeter_worst  area_worst  \\\n",
      "0                 0.07871  ...          17.33           184.60      2019.0   \n",
      "1                 0.05667  ...          23.41           158.80      1956.0   \n",
      "2                 0.05999  ...          25.53           152.50      1709.0   \n",
      "3                 0.09744  ...          26.50            98.87       567.7   \n",
      "4                 0.05883  ...          16.67           152.20      1575.0   \n",
      "\n",
      "   smoothness_worst  compactness_worst  concavity_worst  concave points_worst  \\\n",
      "0            0.1622             0.6656           0.7119                0.2654   \n",
      "1            0.1238             0.1866           0.2416                0.1860   \n",
      "2            0.1444             0.4245           0.4504                0.2430   \n",
      "3            0.2098             0.8663           0.6869                0.2575   \n",
      "4            0.1374             0.2050           0.4000                0.1625   \n",
      "\n",
      "   symmetry_worst  fractal_dimension_worst  cancer_type  \n",
      "0          0.4601                  0.11890            0  \n",
      "1          0.2750                  0.08902            0  \n",
      "2          0.3613                  0.08758            0  \n",
      "3          0.6638                  0.17300            0  \n",
      "4          0.2364                  0.07678            0  \n",
      "\n",
      "[5 rows x 31 columns]\n"
     ]
    }
   ],
   "source": [
    "# Remove ID and diagnosis from the dataset\n",
    "dataset.drop(['id', 'diagnosis'], axis=1, inplace=True)\n",
    "\n",
    "# Drop NA rows because in first one we shouldn't use NA\n",
    "dropped_dataset = dataset.dropna()\n",
    "\n",
    "print(dropped_dataset[dropped_dataset.isna().any(axis=1)])\n",
    "print(dropped_dataset.head())"
   ]
  },
  {
   "attachments": {},
   "cell_type": "markdown",
   "metadata": {},
   "source": [
    "# Fisher Linear Discriminant Analysis Class"
   ]
  },
  {
   "cell_type": "code",
   "execution_count": 31,
   "metadata": {},
   "outputs": [],
   "source": [
    "class FisherLDA:\n",
    "    def __init__(self, dataset: pd.DataFrame, is_feature_engineered = 0):\n",
    "        # Initializing the dataset\n",
    "        self.dataset = dataset\n",
    "        \n",
    "        # Filling with mean\n",
    "        if is_feature_engineered == 1:\n",
    "            self.dataset = self.dataset.fillna(dataset.mean(numeric_only=True))\n",
    "\n",
    "        self.training_dataset = self.dataset.iloc[:int(\n",
    "            0.67*self.dataset.shape[0]), :]\n",
    "\n",
    "        self.testing_dataset = self.dataset.iloc[int(\n",
    "            0.67*self.dataset.shape[0]):, :]\n",
    "        \n",
    "        # Normalization\n",
    "        if is_feature_engineered == 1:\n",
    "            mean = self.training_dataset.iloc[:, :-1].mean(numeric_only=True)\n",
    "            std = self.training_dataset.iloc[:, :-1].std()\n",
    "            self.training_dataset.iloc[:, :-1] = (self.training_dataset.iloc[:, :-1] - mean)/std\n",
    "            self.testing_dataset.iloc[:, :-1] = (self.testing_dataset.iloc[:, :-1] - mean)/std \n",
    "\n",
    "        # Training Dataset\n",
    "        # Splitting the dataset category wise for the training data\n",
    "        # This is done in fisher, because we need separate data\n",
    "        # 1 is benign and 0 is malignant\n",
    "        self.training_dataset_benign = self.training_dataset[\n",
    "            self.training_dataset[\"cancer_type\"] == 1]\n",
    "        self.training_dataset_malign = self.training_dataset[\n",
    "            self.training_dataset[\"cancer_type\"] == 0]\n",
    "\n",
    "        # Convert these into values\n",
    "        self.X_train_values_benign = self.training_dataset_benign.iloc[:, :-1].values\n",
    "        self.X_train_values_malign = self.training_dataset_malign.iloc[:, :-1].values\n",
    "\n",
    "        print(f\"Shape of Benign Training Data (incl. output column): {self.training_dataset_benign.shape}\")\n",
    "        print(f\"Shape of Malignant Training Data (incl. output column): {self.training_dataset_malign.shape}\")\n",
    "\n",
    "        # Datasets for accuracy\n",
    "        self.X_train = self.training_dataset.iloc[:, :-1].values\n",
    "        self.y_train = self.training_dataset.iloc[:, -1].values\n",
    "        self.X_test = self.testing_dataset.iloc[:, :-1].values\n",
    "        self.y_test = self.testing_dataset.iloc[:, -1].values\n",
    "\n",
    "        # Make an initial array of w\n",
    "        self.w = np.zeros(self.dataset.shape[1] - 1)\n",
    "\n",
    "        # For the final answer, we need to P(malign | w,x) = P(w,x | malign)P(malign)\n",
    "        # We take P(w, x | malign) as a normal distribution\n",
    "        self.probability_malign = self.training_dataset_malign.shape[0] / (\n",
    "            self.training_dataset_benign.shape[0] + self.training_dataset_malign.shape[0])\n",
    "        self.probability_benign = self.training_dataset_benign.shape[0] / (\n",
    "            self.training_dataset_benign.shape[0] + self.training_dataset_malign.shape[0])\n",
    "        \n",
    "        self.covariance_matrix_s1 = np.zeros(\n",
    "            (self.X_train_values_benign.shape[1],\n",
    "             self.X_train_values_benign.shape[1])\n",
    "        )\n",
    "        self.covariance_matrix_s2 = np.zeros(\n",
    "            (self.X_train_values_malign.shape[1],\n",
    "             self.X_train_values_malign.shape[1])\n",
    "        )\n",
    "\n",
    "\n",
    "    def train(self):\n",
    "        # Using notebook notations:\n",
    "        # Category 1: Benign\n",
    "        # Category 2: Malignant\n",
    "\n",
    "        # m1bar = mean of features for category 1\n",
    "        # m2bar = mean of features for category 2\n",
    "        m1bar = self.X_train_values_benign.mean(axis=0)\n",
    "        m2bar = self.X_train_values_malign.mean(axis=0)\n",
    "        \n",
    "        # print(m1bar)\n",
    "        # print(m2bar)\n",
    "\n",
    "        covariance_matrix_s1 = np.zeros(\n",
    "            (self.X_train_values_benign.shape[1],\n",
    "             self.X_train_values_benign.shape[1])\n",
    "        )\n",
    "        covariance_matrix_s2 = np.zeros(\n",
    "            (self.X_train_values_malign.shape[1],\n",
    "             self.X_train_values_malign.shape[1])\n",
    "        )\n",
    "\n",
    "        # s1_component is giving us Sigma(x_n - m1bar)(x_n - m1bar)T\n",
    "        for index, x in enumerate(self.X_train_values_benign):\n",
    "            col_matrix = (x - m1bar).reshape((x - m1bar).shape[0], 1)\n",
    "            row_matrix = col_matrix.T\n",
    "\n",
    "            # Just a note for future: np.transpose does not work on 1D array, since it counts as 0D vector\n",
    "            # col_matrix = np.transpose(x - m1bar)\n",
    "            # print(col_matrix.shape)\n",
    "\n",
    "            covariance_matrix_s1 += (col_matrix * row_matrix)\n",
    "\n",
    "        # s2_component is giving us Sigma(x_n - m2bar)(x_n - m2bar)T\n",
    "        for index, x in enumerate(self.X_train_values_malign):\n",
    "            col_matrix = (x - m2bar).reshape((x - m2bar).shape[0], 1)\n",
    "            row_matrix = col_matrix.T\n",
    "\n",
    "            # Just a note for future: np.transpose does not work on 1D array, since it counts as 0D vector\n",
    "            # col_matrix = np.transpose(x - m1bar)\n",
    "            # print(col_matrix.shape)\n",
    "\n",
    "            covariance_matrix_s2 += (col_matrix * row_matrix)\n",
    "\n",
    "        s_w = (covariance_matrix_s1) + (covariance_matrix_s2)\n",
    "        s_w_inv = np.linalg.inv(s_w)\n",
    "\n",
    "        self.w = np.matmul(\n",
    "            s_w_inv, (m2bar - m1bar).reshape((m2bar - m2bar).shape[0], 1))\n",
    "\n",
    "        return self.w\n",
    "\n",
    "    def predict(self, x_input):\n",
    "        # List of all the projected points\n",
    "        x_malign = [np.matmul(self.w.T,x)[0] for x in self.X_train_values_malign]\n",
    "        x_benign = [np.matmul(self.w.T,x)[0] for x in self.X_train_values_benign]\n",
    "        \n",
    "        # Here each set of 3 lines calculates\n",
    "        # 1/(2pi*sigma)^0.5 * e^(-(1/2*sigma)(x-mu)^2)\n",
    "        # This is just giving us P(w_tx)\n",
    "        scalar_s1 = (1. / ((2 * np.pi) ** (1 / 2.))) * (1 / ((np.std(x_benign))))\n",
    "        x_sub_u_s1 = np.subtract(np.matmul(self.w.T,x_input.reshape(x_input.shape[0], 1)), np.mean(x_benign))\n",
    "        p_s1 = scalar_s1 * np.exp(-np.dot(x_sub_u_s1, x_sub_u_s1.T) / (np.std(x_benign) * np.std(x_benign) * 2.))\n",
    "        \n",
    "        scalar_s2 = (1. / ((2 * np.pi) ** (1 / 2.))) * (1 / (np.std(x_malign)))\n",
    "        x_sub_u_s2 = np.subtract(np.matmul(self.w.T,x_input.reshape(x_input.shape[0], 1)), np.mean(x_malign))\n",
    "        p_s2 = scalar_s2 * np.exp(-np.dot(x_sub_u_s2, x_sub_u_s2.T) / (np.std(x_malign) * np.std(x_malign) * 2.))        \n",
    "        \n",
    "        # print(f\"Benign: {str(p_s1[0][0]).ljust(30)} Malignant: {str(p_s2[0][0]).ljust(30)}\")\n",
    "        probs =  [p_s1 * self.probability_benign, p_s2 * self.probability_malign]\n",
    "        \n",
    "        # While returning 0 returns the probabilities while 1 returns the prediction\n",
    "        return [probs, 1 if probs[0] > probs[1] else 0]\n",
    "    \n",
    "    def check_training_accuracy(self):\n",
    "        y_predicted = [self.predict(x)[1] for x in self.X_train]\n",
    "        print(f\"Training Predicted: {y_predicted}\")\n",
    "        return generate_confusion_matrix(y_pred=np.array(y_predicted), y_true=self.y_train)[0]\n",
    "    \n",
    "    def check_testing_accuracy(self):\n",
    "        y_predicted = [self.predict(x)[1] for x in self.X_test]\n",
    "        self.y_test_predicted = y_predicted\n",
    "        print(f\"Testing Predicted: {y_predicted}\")\n",
    "        return generate_confusion_matrix(y_pred=np.array(y_predicted), y_true=self.y_test)[0]\n",
    "    \n",
    "    # Required seaborn\n",
    "    # def plot_training_data(self):\n",
    "    #     benign = [self.predict(x)[0][0][0][0] for x in self.X_train_values_benign]\n",
    "    #     malign = [self.predict(x)[0][1][0][0] for x in self.X_train_values_malign]\n",
    "    #     sns.kdeplot(benign, density=True)\n",
    "    #     sns.kdeplot(malign, density=True)\n",
    "        \n",
    "    def get_normal_distribution(self, x_input, mean, stan_dev):\n",
    "        return 1/(np.sqrt(2*np.pi*stan_dev*stan_dev)) * np.exp(-(x_input-mean)**2/(2*stan_dev*stan_dev))\n",
    "        \n",
    "    def plot_normal_distribution(self):\n",
    "        x_malign = [np.matmul(self.w.T,x)[0] for x in self.X_train_values_malign]\n",
    "        x_benign = [np.matmul(self.w.T,x)[0] for x in self.X_train_values_benign]\n",
    "  \n",
    "        # Calculating mean and standard deviation\n",
    "        mean_malign = np.mean(x_malign)\n",
    "        sd_malign = np.std(x_malign)\n",
    "        mean_benign = np.mean(x_benign)\n",
    "        sd_benign = np.std(x_benign)\n",
    "        \n",
    "        # Generate 1000 samples from the normal distribution\n",
    "        samples_malign = np.random.normal(mean_malign, sd_malign, 1000)\n",
    "        samples_benign = np.random.normal(mean_benign, sd_benign, 1000)\n",
    "\n",
    "        # Plot a histogram of the samples_malign\n",
    "        # Plot histograms of the data with overlaid PDFs\n",
    "        plt.hist(samples_malign, bins=50, density=True, alpha=0.5, color='blue', label='Malignant')\n",
    "        plt.hist(samples_benign, bins=50, density=True, alpha=0.5, color='green', label='Benign')\n",
    "\n",
    "        # Create an array of random values\n",
    "        x = np.linspace(-0.5, 0.5, 1000)\n",
    "        \n",
    "        # Calculate prob_dist_funcs for each class and plot them\n",
    "        prob_dist_func_m = self.get_normal_distribution(x, mean_malign, sd_malign)\n",
    "        prob_dist_func_b = self.get_normal_distribution(x, mean_benign, sd_benign)\n",
    "        plt.plot(x, prob_dist_func_m, color='blue', label='Malignant prob_dist_func')\n",
    "        plt.plot(x, prob_dist_func_b, color='green', label='Benign prob_dist_func')\n",
    "\n",
    "        # Set the title and labels\n",
    "        plt.title('Normal Distribution of malign and benign')\n",
    "        plt.xlabel('X-axis')\n",
    "        plt.ylabel('Y-axis')\n",
    "        \n",
    "        # Find intersection point of the prob_dist_funcs and plot it\n",
    "        intersection = np.argwhere(np.diff(np.sign(prob_dist_func_m - prob_dist_func_b))).flatten()\n",
    "        plt.plot(x[intersection], prob_dist_func_m[intersection], 'ro', markersize=10)\n",
    "\n",
    "        # Add legend and axis labels\n",
    "        plt.legend()\n",
    "        plt.xlabel('LDA Component')\n",
    "        plt.ylabel('Density')\n",
    "\n",
    "        # Show the plot\n",
    "        plt.show()\n",
    "    \n",
    "    def show_confusion_matrix(self):\n",
    "        cm = generate_confusion_matrix(y_true=(self.y_test), y_pred=np.array(self.y_test_predicted))\n",
    "\n",
    "        accuracy = cm[0]\n",
    "        precision = cm[1]\n",
    "        recall = cm[2]\n",
    "        f1 = cm[3]\n",
    "        \n",
    "        return accuracy, precision, f1, recall"
   ]
  },
  {
   "attachments": {},
   "cell_type": "markdown",
   "metadata": {},
   "source": [
    "# FLDM1"
   ]
  },
  {
   "cell_type": "code",
   "execution_count": 32,
   "metadata": {},
   "outputs": [
    {
     "name": "stdout",
     "output_type": "stream",
     "text": [
      "Shape of Benign Training Data (incl. output column): (209, 31)\n",
      "Shape of Malignant Training Data (incl. output column): (168, 31)\n"
     ]
    }
   ],
   "source": [
    "fldm1 = FisherLDA(dataset=dropped_dataset)"
   ]
  },
  {
   "cell_type": "code",
   "execution_count": 33,
   "metadata": {},
   "outputs": [],
   "source": [
    "w = fldm1.train()"
   ]
  },
  {
   "cell_type": "code",
   "execution_count": 34,
   "metadata": {},
   "outputs": [
    {
     "data": {
      "text/plain": [
       "array([1, 1, 0, 1, 1, 1, 1, 1, 0, 1, 1, 1, 0, 1, 1, 0, 0, 1, 1, 1, 1, 1,\n",
       "       1, 0, 1, 1, 1, 1, 1, 1, 1, 0, 1, 1, 1, 1, 1, 0, 1, 1, 0, 1, 1, 1,\n",
       "       1, 1, 1, 1, 1, 1, 1, 1, 1, 0, 1, 0, 0, 1, 0, 1, 1, 1, 1, 1, 0, 1,\n",
       "       1, 0, 1, 0, 1, 1, 0, 1, 0, 1, 1, 1, 1, 1, 1, 1, 1, 0, 0, 1, 1, 1,\n",
       "       1, 1, 1, 0, 1, 1, 1, 1, 1, 1, 1, 1, 1, 1, 0, 1, 1, 1, 1, 1, 1, 1,\n",
       "       0, 1, 0, 1, 1, 0, 1, 1, 1, 1, 1, 0, 0, 1, 0, 1, 0, 1, 1, 1, 1, 1,\n",
       "       0, 1, 1, 0, 1, 0, 1, 0, 0, 1, 1, 1, 0, 1, 1, 1, 1, 1, 1, 1, 1, 1,\n",
       "       0, 0, 1, 1, 1, 1, 1, 1, 1, 1, 1, 1, 1, 1, 1, 1, 1, 1, 1, 1, 1, 1,\n",
       "       1, 1, 1, 0, 0, 0, 0, 0, 0, 1], dtype=int64)"
      ]
     },
     "execution_count": 34,
     "metadata": {},
     "output_type": "execute_result"
    }
   ],
   "source": [
    "fldm1.y_test"
   ]
  },
  {
   "cell_type": "code",
   "execution_count": 35,
   "metadata": {},
   "outputs": [
    {
     "name": "stdout",
     "output_type": "stream",
     "text": [
      "Training Predicted: [0, 0, 0, 0, 0, 0, 0, 0, 0, 0, 0, 0, 0, 0, 0, 0, 0, 0, 0, 1, 1, 1, 0, 0, 0, 0, 0, 0, 0, 0, 0, 0, 0, 0, 0, 0, 0, 1, 1, 0, 1, 0, 0, 0, 0, 0, 1, 0, 1, 1, 1, 1, 1, 0, 0, 1, 0, 0, 1, 1, 1, 1, 0, 1, 0, 0, 1, 1, 1, 1, 0, 1, 0, 0, 1, 0, 1, 0, 0, 1, 1, 0, 0, 0, 1, 0, 0, 0, 1, 1, 1, 0, 1, 1, 0, 0, 1, 1, 1, 0, 0, 1, 1, 1, 1, 0, 1, 1, 0, 1, 1, 1, 1, 1, 1, 1, 1, 0, 0, 0, 1, 0, 0, 1, 1, 1, 0, 0, 1, 0, 1, 0, 0, 1, 0, 1, 1, 1, 0, 1, 1, 0, 1, 1, 1, 1, 0, 1, 1, 1, 1, 1, 1, 1, 1, 1, 0, 1, 1, 1, 1, 0, 0, 1, 0, 1, 1, 0, 0, 1, 1, 0, 0, 1, 1, 1, 1, 0, 1, 1, 0, 0, 0, 1, 0, 1, 0, 1, 1, 1, 0, 1, 1, 0, 1, 1, 0, 1, 0, 0, 1, 0, 0, 0, 1, 0, 1, 0, 1, 1, 0, 1, 0, 0, 0, 0, 1, 1, 0, 0, 1, 1, 1, 0, 1, 1, 1, 1, 1, 0, 0, 1, 1, 0, 1, 1, 0, 0, 1, 0, 1, 1, 1, 1, 0, 1, 1, 1, 1, 1, 0, 1, 0, 0, 0, 0, 0, 0, 0, 0, 0, 0, 0, 1, 0, 0, 1, 1, 1, 1, 1, 1, 0, 1, 0, 1, 1, 0, 1, 1, 0, 1, 0, 0, 1, 1, 1, 1, 1, 1, 1, 1, 1, 1, 1, 1, 1, 1, 1, 1, 0, 1, 0, 1, 1, 1, 1, 1, 1, 1, 1, 1, 1, 1, 1, 1, 1, 0, 1, 1, 1, 0, 1, 0, 1, 1, 1, 1, 0, 0, 0, 1, 1, 1, 1, 0, 1, 0, 1, 0, 1, 1, 1, 0, 1, 1, 1, 0, 1, 1, 1, 0, 0, 0, 1, 1, 1, 1, 1, 1, 1, 1, 1, 1, 1, 0, 0, 1, 0, 0, 0, 1, 0, 0, 1, 1, 1]\n"
     ]
    },
    {
     "data": {
      "text/plain": [
       "0.9761273209549072"
      ]
     },
     "execution_count": 35,
     "metadata": {},
     "output_type": "execute_result"
    }
   ],
   "source": [
    "fldm1.check_training_accuracy()"
   ]
  },
  {
   "cell_type": "code",
   "execution_count": 36,
   "metadata": {},
   "outputs": [
    {
     "name": "stdout",
     "output_type": "stream",
     "text": [
      "Testing Predicted: [1, 1, 0, 1, 1, 1, 1, 1, 0, 1, 1, 1, 0, 1, 1, 0, 0, 1, 1, 1, 1, 1, 1, 0, 1, 1, 1, 1, 1, 1, 1, 0, 1, 1, 1, 1, 0, 0, 1, 1, 0, 1, 1, 1, 1, 1, 1, 1, 1, 1, 1, 1, 1, 0, 1, 0, 0, 1, 0, 1, 1, 1, 1, 1, 0, 1, 1, 0, 1, 0, 1, 1, 0, 1, 0, 1, 1, 1, 0, 1, 1, 1, 1, 0, 0, 1, 1, 1, 1, 1, 1, 0, 1, 1, 1, 1, 1, 1, 1, 1, 1, 1, 0, 1, 1, 1, 1, 1, 1, 1, 0, 1, 0, 1, 1, 0, 1, 1, 1, 1, 1, 0, 0, 1, 0, 1, 0, 1, 1, 1, 1, 1, 0, 1, 1, 0, 1, 1, 1, 0, 0, 1, 1, 1, 0, 1, 1, 1, 1, 1, 1, 1, 1, 1, 0, 0, 1, 1, 1, 1, 0, 0, 1, 1, 1, 1, 1, 1, 1, 1, 1, 1, 1, 1, 1, 1, 1, 1, 1, 0, 0, 0, 0, 0, 0, 1]\n"
     ]
    },
    {
     "data": {
      "text/plain": [
       "0.9731182795698925"
      ]
     },
     "execution_count": 36,
     "metadata": {},
     "output_type": "execute_result"
    }
   ],
   "source": [
    "fldm1.check_testing_accuracy()"
   ]
  },
  {
   "cell_type": "code",
   "execution_count": 37,
   "metadata": {},
   "outputs": [
    {
     "data": {
      "text/plain": [
       "(0.9731182795698925, 0.9928571428571429, 0.9823321554770317, 0.972027972027972)"
      ]
     },
     "execution_count": 37,
     "metadata": {},
     "output_type": "execute_result"
    }
   ],
   "source": [
    "fldm1.show_confusion_matrix()"
   ]
  },
  {
   "cell_type": "code",
   "execution_count": 38,
   "metadata": {},
   "outputs": [
    {
     "data": {
      "image/png": "[encoded data removed]",
      "text/plain": [
       "<Figure size 640x480 with 1 Axes>"
      ]
     },
     "metadata": {},
     "output_type": "display_data"
    }
   ],
   "source": [
    "fldm1.plot_normal_distribution()"
   ]
  },
  {
   "attachments": {},
   "cell_type": "markdown",
   "metadata": {},
   "source": [
    "\n",
    "# FLDM1 with Normalized Dataset"
   ]
  },
  {
   "cell_type": "code",
   "execution_count": 39,
   "metadata": {},
   "outputs": [
    {
     "name": "stdout",
     "output_type": "stream",
     "text": [
      "Shape of Benign Training Data (incl. output column): (212, 31)\n",
      "Shape of Malignant Training Data (incl. output column): (169, 31)\n"
     ]
    },
    {
     "name": "stderr",
     "output_type": "stream",
     "text": [
      "C:\\Users\\divya\\AppData\\Local\\Temp\\ipykernel_14996\\3350081143.py:20: SettingWithCopyWarning: \n",
      "A value is trying to be set on a copy of a slice from a DataFrame.\n",
      "Try using .loc[row_indexer,col_indexer] = value instead\n",
      "\n",
      "See the caveats in the documentation: https://pandas.pydata.org/pandas-docs/stable/user_guide/indexing.html#returning-a-view-versus-a-copy\n",
      "  self.training_dataset.iloc[:, :-1] = (self.training_dataset.iloc[:, :-1] - mean)/std\n",
      "C:\\Users\\divya\\AppData\\Local\\Temp\\ipykernel_14996\\3350081143.py:21: SettingWithCopyWarning: \n",
      "A value is trying to be set on a copy of a slice from a DataFrame.\n",
      "Try using .loc[row_indexer,col_indexer] = value instead\n",
      "\n",
      "See the caveats in the documentation: https://pandas.pydata.org/pandas-docs/stable/user_guide/indexing.html#returning-a-view-versus-a-copy\n",
      "  self.testing_dataset.iloc[:, :-1] = (self.testing_dataset.iloc[:, :-1] - mean)/std\n"
     ]
    }
   ],
   "source": [
    "fldm1_normalized = FisherLDA(dataset=dataset, is_feature_engineered=1)"
   ]
  },
  {
   "cell_type": "code",
   "execution_count": 40,
   "metadata": {},
   "outputs": [],
   "source": [
    "w_normalized = fldm1_normalized.train()"
   ]
  },
  {
   "cell_type": "code",
   "execution_count": 41,
   "metadata": {},
   "outputs": [
    {
     "data": {
      "text/plain": [
       "array([1, 1, 1, 1, 0, 1, 1, 1, 0, 1, 1, 0, 0, 1, 1, 1, 1, 1, 1, 0, 1, 1,\n",
       "       1, 1, 1, 1, 1, 0, 1, 1, 1, 1, 1, 0, 1, 1, 0, 1, 1, 1, 1, 1, 1, 1,\n",
       "       1, 1, 1, 1, 1, 0, 1, 0, 0, 1, 0, 1, 1, 1, 1, 1, 0, 1, 1, 0, 1, 0,\n",
       "       1, 1, 0, 1, 0, 1, 1, 1, 1, 1, 1, 1, 1, 0, 0, 1, 1, 1, 1, 1, 1, 0,\n",
       "       1, 1, 1, 1, 1, 1, 1, 1, 1, 1, 0, 1, 1, 1, 1, 1, 1, 1, 0, 1, 0, 1,\n",
       "       1, 0, 1, 1, 1, 1, 1, 0, 0, 1, 0, 1, 0, 1, 1, 1, 1, 1, 0, 1, 1, 0,\n",
       "       1, 0, 1, 0, 0, 1, 1, 1, 0, 1, 1, 1, 1, 1, 1, 1, 1, 1, 1, 1, 0, 1,\n",
       "       0, 0, 1, 1, 1, 1, 1, 1, 1, 1, 1, 1, 1, 1, 1, 1, 1, 1, 1, 1, 1, 1,\n",
       "       1, 1, 1, 1, 1, 0, 0, 0, 0, 0, 0, 1], dtype=int64)"
      ]
     },
     "execution_count": 41,
     "metadata": {},
     "output_type": "execute_result"
    }
   ],
   "source": [
    "fldm1_normalized.y_test"
   ]
  },
  {
   "cell_type": "code",
   "execution_count": 42,
   "metadata": {},
   "outputs": [
    {
     "name": "stdout",
     "output_type": "stream",
     "text": [
      "Training Predicted: [0, 0, 0, 0, 0, 0, 0, 0, 0, 0, 0, 0, 0, 0, 0, 0, 0, 0, 0, 1, 1, 1, 0, 0, 0, 0, 0, 0, 0, 0, 0, 0, 0, 0, 0, 0, 0, 1, 1, 0, 1, 0, 0, 0, 0, 0, 1, 0, 1, 1, 1, 1, 1, 0, 0, 1, 0, 0, 1, 1, 1, 1, 0, 1, 0, 0, 1, 1, 1, 1, 0, 1, 0, 1, 1, 0, 1, 0, 0, 1, 1, 0, 0, 0, 1, 0, 0, 0, 1, 1, 1, 0, 1, 1, 0, 0, 1, 1, 1, 0, 0, 1, 1, 1, 1, 0, 1, 1, 0, 1, 1, 1, 1, 1, 1, 1, 1, 0, 0, 0, 1, 0, 0, 1, 1, 1, 0, 0, 1, 0, 1, 0, 0, 1, 0, 1, 1, 1, 0, 1, 1, 0, 1, 1, 1, 1, 0, 1, 1, 1, 1, 1, 1, 1, 1, 1, 0, 1, 1, 1, 1, 0, 0, 1, 0, 1, 1, 0, 0, 1, 1, 0, 0, 1, 1, 1, 1, 0, 1, 1, 0, 0, 0, 1, 0, 1, 0, 1, 1, 1, 0, 1, 1, 0, 1, 1, 0, 1, 0, 0, 1, 0, 0, 0, 1, 0, 1, 0, 1, 1, 0, 1, 0, 0, 0, 0, 1, 1, 0, 0, 1, 1, 1, 0, 1, 1, 1, 1, 1, 0, 0, 1, 1, 0, 1, 1, 0, 0, 1, 0, 1, 1, 1, 1, 0, 1, 1, 1, 1, 1, 0, 1, 0, 0, 0, 0, 0, 0, 0, 0, 0, 0, 0, 1, 0, 0, 1, 1, 1, 1, 1, 1, 0, 1, 0, 1, 1, 0, 1, 1, 0, 1, 0, 0, 1, 1, 1, 1, 1, 1, 1, 1, 1, 1, 1, 1, 1, 1, 1, 1, 0, 1, 0, 1, 1, 1, 1, 1, 1, 1, 1, 1, 1, 1, 1, 1, 1, 0, 1, 1, 1, 0, 1, 0, 1, 1, 1, 1, 0, 0, 0, 1, 1, 1, 1, 0, 1, 0, 1, 0, 1, 1, 1, 0, 1, 1, 1, 1, 1, 1, 1, 0, 0, 0, 1, 1, 1, 1, 1, 1, 1, 1, 1, 1, 1, 0, 0, 1, 0, 0, 0, 1, 0, 0, 1, 1, 1, 1, 1, 0, 1]\n"
     ]
    },
    {
     "data": {
      "text/plain": [
       "0.9763779527559056"
      ]
     },
     "execution_count": 42,
     "metadata": {},
     "output_type": "execute_result"
    }
   ],
   "source": [
    "fldm1_normalized.check_training_accuracy()"
   ]
  },
  {
   "cell_type": "code",
   "execution_count": 43,
   "metadata": {},
   "outputs": [
    {
     "name": "stdout",
     "output_type": "stream",
     "text": [
      "Testing Predicted: [1, 1, 1, 1, 0, 1, 1, 1, 0, 1, 1, 0, 0, 1, 1, 1, 1, 1, 1, 0, 1, 1, 1, 1, 1, 1, 1, 0, 1, 1, 1, 1, 0, 0, 1, 1, 0, 1, 1, 1, 1, 1, 1, 1, 1, 1, 1, 1, 1, 0, 1, 0, 0, 1, 0, 1, 1, 1, 1, 1, 0, 1, 1, 0, 1, 0, 1, 1, 0, 1, 0, 1, 1, 1, 0, 1, 1, 1, 1, 0, 0, 1, 1, 1, 1, 1, 1, 0, 1, 1, 1, 1, 1, 1, 1, 1, 1, 1, 0, 1, 1, 1, 1, 1, 1, 1, 0, 1, 0, 1, 1, 0, 1, 1, 1, 1, 1, 0, 0, 1, 0, 1, 0, 1, 1, 1, 1, 1, 0, 1, 1, 0, 1, 1, 1, 0, 0, 1, 1, 1, 0, 1, 1, 1, 1, 1, 1, 1, 1, 1, 1, 1, 0, 1, 0, 0, 1, 1, 1, 1, 0, 0, 1, 1, 1, 1, 1, 0, 1, 1, 1, 1, 1, 1, 1, 1, 1, 1, 1, 1, 1, 0, 0, 0, 0, 0, 0, 1]\n"
     ]
    },
    {
     "data": {
      "text/plain": [
       "0.9680851063829787"
      ]
     },
     "execution_count": 43,
     "metadata": {},
     "output_type": "execute_result"
    }
   ],
   "source": [
    "fldm1_normalized.check_testing_accuracy()"
   ]
  },
  {
   "cell_type": "code",
   "execution_count": 45,
   "metadata": {},
   "outputs": [
    {
     "data": {
      "text/plain": [
       "(0.9680851063829787,\n",
       " 0.9929078014184397,\n",
       " 0.9790209790209791,\n",
       " 0.9655172413793104)"
      ]
     },
     "execution_count": 45,
     "metadata": {},
     "output_type": "execute_result"
    }
   ],
   "source": [
    "fldm1_normalized.show_confusion_matrix()"
   ]
  },
  {
   "cell_type": "code",
   "execution_count": 46,
   "metadata": {},
   "outputs": [
    {
     "data": {
      "image/png": "[encoded data removed]",
      "text/plain": [
       "<Figure size 640x480 with 1 Axes>"
      ]
     },
     "metadata": {},
     "output_type": "display_data"
    }
   ],
   "source": [
    "fldm1_normalized.plot_normal_distribution()"
   ]
  },
  {
   "attachments": {},
   "cell_type": "markdown",
   "metadata": {},
   "source": [
    "# FLDM2"
   ]
  },
  {
   "cell_type": "code",
   "execution_count": 47,
   "metadata": {},
   "outputs": [
    {
     "data": {
      "text/html": [
       "<div>\n",
       "<style scoped>\n",
       "    .dataframe tbody tr th:only-of-type {\n",
       "        vertical-align: middle;\n",
       "    }\n",
       "\n",
       "    .dataframe tbody tr th {\n",
       "        vertical-align: top;\n",
       "    }\n",
       "\n",
       "    .dataframe thead th {\n",
       "        text-align: right;\n",
       "    }\n",
       "</style>\n",
       "<table border=\"1\" class=\"dataframe\">\n",
       "  <thead>\n",
       "    <tr style=\"text-align: right;\">\n",
       "      <th></th>\n",
       "      <th>id</th>\n",
       "      <th>diagnosis</th>\n",
       "      <th>radius_mean</th>\n",
       "      <th>texture_mean</th>\n",
       "      <th>perimeter_mean</th>\n",
       "      <th>area_mean</th>\n",
       "      <th>smoothness_mean</th>\n",
       "      <th>compactness_mean</th>\n",
       "      <th>concavity_mean</th>\n",
       "      <th>concave points_mean</th>\n",
       "      <th>...</th>\n",
       "      <th>radius_worst</th>\n",
       "      <th>texture_worst</th>\n",
       "      <th>perimeter_worst</th>\n",
       "      <th>area_worst</th>\n",
       "      <th>smoothness_worst</th>\n",
       "      <th>compactness_worst</th>\n",
       "      <th>concavity_worst</th>\n",
       "      <th>concave points_worst</th>\n",
       "      <th>symmetry_worst</th>\n",
       "      <th>fractal_dimension_worst</th>\n",
       "    </tr>\n",
       "  </thead>\n",
       "  <tbody>\n",
       "    <tr>\n",
       "      <th>0</th>\n",
       "      <td>842302</td>\n",
       "      <td>M</td>\n",
       "      <td>17.99</td>\n",
       "      <td>10.38</td>\n",
       "      <td>122.80</td>\n",
       "      <td>1001.0</td>\n",
       "      <td>0.11840</td>\n",
       "      <td>0.27760</td>\n",
       "      <td>0.3001</td>\n",
       "      <td>0.14710</td>\n",
       "      <td>...</td>\n",
       "      <td>25.38</td>\n",
       "      <td>17.33</td>\n",
       "      <td>184.60</td>\n",
       "      <td>2019.0</td>\n",
       "      <td>0.1622</td>\n",
       "      <td>0.6656</td>\n",
       "      <td>0.7119</td>\n",
       "      <td>0.2654</td>\n",
       "      <td>0.4601</td>\n",
       "      <td>0.11890</td>\n",
       "    </tr>\n",
       "    <tr>\n",
       "      <th>1</th>\n",
       "      <td>842517</td>\n",
       "      <td>M</td>\n",
       "      <td>20.57</td>\n",
       "      <td>17.77</td>\n",
       "      <td>132.90</td>\n",
       "      <td>1326.0</td>\n",
       "      <td>0.08474</td>\n",
       "      <td>0.07864</td>\n",
       "      <td>0.0869</td>\n",
       "      <td>0.07017</td>\n",
       "      <td>...</td>\n",
       "      <td>24.99</td>\n",
       "      <td>23.41</td>\n",
       "      <td>158.80</td>\n",
       "      <td>1956.0</td>\n",
       "      <td>0.1238</td>\n",
       "      <td>0.1866</td>\n",
       "      <td>0.2416</td>\n",
       "      <td>0.1860</td>\n",
       "      <td>0.2750</td>\n",
       "      <td>0.08902</td>\n",
       "    </tr>\n",
       "    <tr>\n",
       "      <th>2</th>\n",
       "      <td>84300903</td>\n",
       "      <td>M</td>\n",
       "      <td>19.69</td>\n",
       "      <td>21.25</td>\n",
       "      <td>130.00</td>\n",
       "      <td>1203.0</td>\n",
       "      <td>0.10960</td>\n",
       "      <td>0.15990</td>\n",
       "      <td>0.1974</td>\n",
       "      <td>0.12790</td>\n",
       "      <td>...</td>\n",
       "      <td>23.57</td>\n",
       "      <td>25.53</td>\n",
       "      <td>152.50</td>\n",
       "      <td>1709.0</td>\n",
       "      <td>0.1444</td>\n",
       "      <td>0.4245</td>\n",
       "      <td>0.4504</td>\n",
       "      <td>0.2430</td>\n",
       "      <td>0.3613</td>\n",
       "      <td>0.08758</td>\n",
       "    </tr>\n",
       "    <tr>\n",
       "      <th>3</th>\n",
       "      <td>84348301</td>\n",
       "      <td>M</td>\n",
       "      <td>11.42</td>\n",
       "      <td>20.38</td>\n",
       "      <td>77.58</td>\n",
       "      <td>386.1</td>\n",
       "      <td>0.14250</td>\n",
       "      <td>0.28390</td>\n",
       "      <td>0.2414</td>\n",
       "      <td>0.10520</td>\n",
       "      <td>...</td>\n",
       "      <td>14.91</td>\n",
       "      <td>26.50</td>\n",
       "      <td>98.87</td>\n",
       "      <td>567.7</td>\n",
       "      <td>0.2098</td>\n",
       "      <td>0.8663</td>\n",
       "      <td>0.6869</td>\n",
       "      <td>0.2575</td>\n",
       "      <td>0.6638</td>\n",
       "      <td>0.17300</td>\n",
       "    </tr>\n",
       "    <tr>\n",
       "      <th>4</th>\n",
       "      <td>84358402</td>\n",
       "      <td>M</td>\n",
       "      <td>20.29</td>\n",
       "      <td>14.34</td>\n",
       "      <td>135.10</td>\n",
       "      <td>1297.0</td>\n",
       "      <td>0.10030</td>\n",
       "      <td>0.13280</td>\n",
       "      <td>0.1980</td>\n",
       "      <td>0.10430</td>\n",
       "      <td>...</td>\n",
       "      <td>22.54</td>\n",
       "      <td>16.67</td>\n",
       "      <td>152.20</td>\n",
       "      <td>1575.0</td>\n",
       "      <td>0.1374</td>\n",
       "      <td>0.2050</td>\n",
       "      <td>0.4000</td>\n",
       "      <td>0.1625</td>\n",
       "      <td>0.2364</td>\n",
       "      <td>0.07678</td>\n",
       "    </tr>\n",
       "  </tbody>\n",
       "</table>\n",
       "<p>5 rows × 32 columns</p>\n",
       "</div>"
      ],
      "text/plain": [
       "         id diagnosis  radius_mean  texture_mean  perimeter_mean  area_mean  \\\n",
       "0    842302         M        17.99         10.38          122.80     1001.0   \n",
       "1    842517         M        20.57         17.77          132.90     1326.0   \n",
       "2  84300903         M        19.69         21.25          130.00     1203.0   \n",
       "3  84348301         M        11.42         20.38           77.58      386.1   \n",
       "4  84358402         M        20.29         14.34          135.10     1297.0   \n",
       "\n",
       "   smoothness_mean  compactness_mean  concavity_mean  concave points_mean  \\\n",
       "0          0.11840           0.27760          0.3001              0.14710   \n",
       "1          0.08474           0.07864          0.0869              0.07017   \n",
       "2          0.10960           0.15990          0.1974              0.12790   \n",
       "3          0.14250           0.28390          0.2414              0.10520   \n",
       "4          0.10030           0.13280          0.1980              0.10430   \n",
       "\n",
       "   ...  radius_worst  texture_worst  perimeter_worst  area_worst  \\\n",
       "0  ...         25.38          17.33           184.60      2019.0   \n",
       "1  ...         24.99          23.41           158.80      1956.0   \n",
       "2  ...         23.57          25.53           152.50      1709.0   \n",
       "3  ...         14.91          26.50            98.87       567.7   \n",
       "4  ...         22.54          16.67           152.20      1575.0   \n",
       "\n",
       "   smoothness_worst  compactness_worst  concavity_worst  concave points_worst  \\\n",
       "0            0.1622             0.6656           0.7119                0.2654   \n",
       "1            0.1238             0.1866           0.2416                0.1860   \n",
       "2            0.1444             0.4245           0.4504                0.2430   \n",
       "3            0.2098             0.8663           0.6869                0.2575   \n",
       "4            0.1374             0.2050           0.4000                0.1625   \n",
       "\n",
       "   symmetry_worst  fractal_dimension_worst  \n",
       "0          0.4601                  0.11890  \n",
       "1          0.2750                  0.08902  \n",
       "2          0.3613                  0.08758  \n",
       "3          0.6638                  0.17300  \n",
       "4          0.2364                  0.07678  \n",
       "\n",
       "[5 rows x 32 columns]"
      ]
     },
     "execution_count": 47,
     "metadata": {},
     "output_type": "execute_result"
    }
   ],
   "source": [
    "dataset = pd.read_csv('../dataset.csv')\n",
    "dataset.head()"
   ]
  },
  {
   "cell_type": "code",
   "execution_count": 48,
   "metadata": {},
   "outputs": [
    {
     "data": {
      "text/html": [
       "<div>\n",
       "<style scoped>\n",
       "    .dataframe tbody tr th:only-of-type {\n",
       "        vertical-align: middle;\n",
       "    }\n",
       "\n",
       "    .dataframe tbody tr th {\n",
       "        vertical-align: top;\n",
       "    }\n",
       "\n",
       "    .dataframe thead th {\n",
       "        text-align: right;\n",
       "    }\n",
       "</style>\n",
       "<table border=\"1\" class=\"dataframe\">\n",
       "  <thead>\n",
       "    <tr style=\"text-align: right;\">\n",
       "      <th></th>\n",
       "      <th>texture_mean</th>\n",
       "      <th>area_worst</th>\n",
       "      <th>concave points_worst</th>\n",
       "      <th>concavity_mean</th>\n",
       "      <th>perimeter_mean</th>\n",
       "      <th>radius_se</th>\n",
       "      <th>perimeter_se</th>\n",
       "      <th>texture_worst</th>\n",
       "      <th>smoothness_se</th>\n",
       "      <th>diagnosis</th>\n",
       "      <th>...</th>\n",
       "      <th>concave points_mean</th>\n",
       "      <th>fractal_dimension_mean</th>\n",
       "      <th>texture_se</th>\n",
       "      <th>symmetry_se</th>\n",
       "      <th>radius_worst</th>\n",
       "      <th>area_se</th>\n",
       "      <th>radius_mean</th>\n",
       "      <th>symmetry_mean</th>\n",
       "      <th>smoothness_worst</th>\n",
       "      <th>compactness_worst</th>\n",
       "    </tr>\n",
       "  </thead>\n",
       "  <tbody>\n",
       "    <tr>\n",
       "      <th>0</th>\n",
       "      <td>10.38</td>\n",
       "      <td>2019.0</td>\n",
       "      <td>0.2654</td>\n",
       "      <td>0.3001</td>\n",
       "      <td>122.80</td>\n",
       "      <td>1.0950</td>\n",
       "      <td>8.589</td>\n",
       "      <td>17.33</td>\n",
       "      <td>0.006399</td>\n",
       "      <td>M</td>\n",
       "      <td>...</td>\n",
       "      <td>0.14710</td>\n",
       "      <td>0.07871</td>\n",
       "      <td>0.9053</td>\n",
       "      <td>0.03003</td>\n",
       "      <td>25.38</td>\n",
       "      <td>153.40</td>\n",
       "      <td>17.99</td>\n",
       "      <td>0.2419</td>\n",
       "      <td>0.1622</td>\n",
       "      <td>0.6656</td>\n",
       "    </tr>\n",
       "    <tr>\n",
       "      <th>1</th>\n",
       "      <td>17.77</td>\n",
       "      <td>1956.0</td>\n",
       "      <td>0.1860</td>\n",
       "      <td>0.0869</td>\n",
       "      <td>132.90</td>\n",
       "      <td>0.5435</td>\n",
       "      <td>3.398</td>\n",
       "      <td>23.41</td>\n",
       "      <td>0.005225</td>\n",
       "      <td>M</td>\n",
       "      <td>...</td>\n",
       "      <td>0.07017</td>\n",
       "      <td>0.05667</td>\n",
       "      <td>0.7339</td>\n",
       "      <td>0.01389</td>\n",
       "      <td>24.99</td>\n",
       "      <td>74.08</td>\n",
       "      <td>20.57</td>\n",
       "      <td>0.1812</td>\n",
       "      <td>0.1238</td>\n",
       "      <td>0.1866</td>\n",
       "    </tr>\n",
       "    <tr>\n",
       "      <th>2</th>\n",
       "      <td>21.25</td>\n",
       "      <td>1709.0</td>\n",
       "      <td>0.2430</td>\n",
       "      <td>0.1974</td>\n",
       "      <td>130.00</td>\n",
       "      <td>0.7456</td>\n",
       "      <td>4.585</td>\n",
       "      <td>25.53</td>\n",
       "      <td>0.006150</td>\n",
       "      <td>M</td>\n",
       "      <td>...</td>\n",
       "      <td>0.12790</td>\n",
       "      <td>0.05999</td>\n",
       "      <td>0.7869</td>\n",
       "      <td>0.02250</td>\n",
       "      <td>23.57</td>\n",
       "      <td>94.03</td>\n",
       "      <td>19.69</td>\n",
       "      <td>0.2069</td>\n",
       "      <td>0.1444</td>\n",
       "      <td>0.4245</td>\n",
       "    </tr>\n",
       "    <tr>\n",
       "      <th>3</th>\n",
       "      <td>20.38</td>\n",
       "      <td>567.7</td>\n",
       "      <td>0.2575</td>\n",
       "      <td>0.2414</td>\n",
       "      <td>77.58</td>\n",
       "      <td>0.4956</td>\n",
       "      <td>3.445</td>\n",
       "      <td>26.50</td>\n",
       "      <td>0.009110</td>\n",
       "      <td>M</td>\n",
       "      <td>...</td>\n",
       "      <td>0.10520</td>\n",
       "      <td>0.09744</td>\n",
       "      <td>1.1560</td>\n",
       "      <td>0.05963</td>\n",
       "      <td>14.91</td>\n",
       "      <td>27.23</td>\n",
       "      <td>11.42</td>\n",
       "      <td>0.2597</td>\n",
       "      <td>0.2098</td>\n",
       "      <td>0.8663</td>\n",
       "    </tr>\n",
       "    <tr>\n",
       "      <th>4</th>\n",
       "      <td>14.34</td>\n",
       "      <td>1575.0</td>\n",
       "      <td>0.1625</td>\n",
       "      <td>0.1980</td>\n",
       "      <td>135.10</td>\n",
       "      <td>0.7572</td>\n",
       "      <td>5.438</td>\n",
       "      <td>16.67</td>\n",
       "      <td>0.011490</td>\n",
       "      <td>M</td>\n",
       "      <td>...</td>\n",
       "      <td>0.10430</td>\n",
       "      <td>0.05883</td>\n",
       "      <td>0.7813</td>\n",
       "      <td>0.01756</td>\n",
       "      <td>22.54</td>\n",
       "      <td>94.44</td>\n",
       "      <td>20.29</td>\n",
       "      <td>0.1809</td>\n",
       "      <td>0.1374</td>\n",
       "      <td>0.2050</td>\n",
       "    </tr>\n",
       "  </tbody>\n",
       "</table>\n",
       "<p>5 rows × 32 columns</p>\n",
       "</div>"
      ],
      "text/plain": [
       "   texture_mean  area_worst  concave points_worst  concavity_mean  \\\n",
       "0         10.38      2019.0                0.2654          0.3001   \n",
       "1         17.77      1956.0                0.1860          0.0869   \n",
       "2         21.25      1709.0                0.2430          0.1974   \n",
       "3         20.38       567.7                0.2575          0.2414   \n",
       "4         14.34      1575.0                0.1625          0.1980   \n",
       "\n",
       "   perimeter_mean  radius_se  perimeter_se  texture_worst  smoothness_se  \\\n",
       "0          122.80     1.0950         8.589          17.33       0.006399   \n",
       "1          132.90     0.5435         3.398          23.41       0.005225   \n",
       "2          130.00     0.7456         4.585          25.53       0.006150   \n",
       "3           77.58     0.4956         3.445          26.50       0.009110   \n",
       "4          135.10     0.7572         5.438          16.67       0.011490   \n",
       "\n",
       "  diagnosis  ...  concave points_mean  fractal_dimension_mean  texture_se  \\\n",
       "0         M  ...              0.14710                 0.07871      0.9053   \n",
       "1         M  ...              0.07017                 0.05667      0.7339   \n",
       "2         M  ...              0.12790                 0.05999      0.7869   \n",
       "3         M  ...              0.10520                 0.09744      1.1560   \n",
       "4         M  ...              0.10430                 0.05883      0.7813   \n",
       "\n",
       "   symmetry_se  radius_worst  area_se  radius_mean  symmetry_mean  \\\n",
       "0      0.03003         25.38   153.40        17.99         0.2419   \n",
       "1      0.01389         24.99    74.08        20.57         0.1812   \n",
       "2      0.02250         23.57    94.03        19.69         0.2069   \n",
       "3      0.05963         14.91    27.23        11.42         0.2597   \n",
       "4      0.01756         22.54    94.44        20.29         0.1809   \n",
       "\n",
       "   smoothness_worst  compactness_worst  \n",
       "0            0.1622             0.6656  \n",
       "1            0.1238             0.1866  \n",
       "2            0.1444             0.4245  \n",
       "3            0.2098             0.8663  \n",
       "4            0.1374             0.2050  \n",
       "\n",
       "[5 rows x 32 columns]"
      ]
     },
     "execution_count": 48,
     "metadata": {},
     "output_type": "execute_result"
    }
   ],
   "source": [
    "# Shuffling the dataset column wise\n",
    "dataset_column_shuffled = dataset.sample(frac=1, axis=1)\n",
    "dataset_column_shuffled.head()"
   ]
  },
  {
   "cell_type": "code",
   "execution_count": 49,
   "metadata": {},
   "outputs": [
    {
     "data": {
      "text/html": [
       "<div>\n",
       "<style scoped>\n",
       "    .dataframe tbody tr th:only-of-type {\n",
       "        vertical-align: middle;\n",
       "    }\n",
       "\n",
       "    .dataframe tbody tr th {\n",
       "        vertical-align: top;\n",
       "    }\n",
       "\n",
       "    .dataframe thead th {\n",
       "        text-align: right;\n",
       "    }\n",
       "</style>\n",
       "<table border=\"1\" class=\"dataframe\">\n",
       "  <thead>\n",
       "    <tr style=\"text-align: right;\">\n",
       "      <th></th>\n",
       "      <th>texture_mean</th>\n",
       "      <th>area_worst</th>\n",
       "      <th>concave points_worst</th>\n",
       "      <th>concavity_mean</th>\n",
       "      <th>perimeter_mean</th>\n",
       "      <th>radius_se</th>\n",
       "      <th>perimeter_se</th>\n",
       "      <th>texture_worst</th>\n",
       "      <th>smoothness_se</th>\n",
       "      <th>diagnosis</th>\n",
       "      <th>...</th>\n",
       "      <th>fractal_dimension_mean</th>\n",
       "      <th>texture_se</th>\n",
       "      <th>symmetry_se</th>\n",
       "      <th>radius_worst</th>\n",
       "      <th>area_se</th>\n",
       "      <th>radius_mean</th>\n",
       "      <th>symmetry_mean</th>\n",
       "      <th>smoothness_worst</th>\n",
       "      <th>compactness_worst</th>\n",
       "      <th>cancer_type</th>\n",
       "    </tr>\n",
       "  </thead>\n",
       "  <tbody>\n",
       "    <tr>\n",
       "      <th>0</th>\n",
       "      <td>10.38</td>\n",
       "      <td>2019.0</td>\n",
       "      <td>0.2654</td>\n",
       "      <td>0.3001</td>\n",
       "      <td>122.80</td>\n",
       "      <td>1.0950</td>\n",
       "      <td>8.589</td>\n",
       "      <td>17.33</td>\n",
       "      <td>0.006399</td>\n",
       "      <td>M</td>\n",
       "      <td>...</td>\n",
       "      <td>0.07871</td>\n",
       "      <td>0.9053</td>\n",
       "      <td>0.03003</td>\n",
       "      <td>25.38</td>\n",
       "      <td>153.40</td>\n",
       "      <td>17.99</td>\n",
       "      <td>0.2419</td>\n",
       "      <td>0.1622</td>\n",
       "      <td>0.6656</td>\n",
       "      <td>0</td>\n",
       "    </tr>\n",
       "    <tr>\n",
       "      <th>1</th>\n",
       "      <td>17.77</td>\n",
       "      <td>1956.0</td>\n",
       "      <td>0.1860</td>\n",
       "      <td>0.0869</td>\n",
       "      <td>132.90</td>\n",
       "      <td>0.5435</td>\n",
       "      <td>3.398</td>\n",
       "      <td>23.41</td>\n",
       "      <td>0.005225</td>\n",
       "      <td>M</td>\n",
       "      <td>...</td>\n",
       "      <td>0.05667</td>\n",
       "      <td>0.7339</td>\n",
       "      <td>0.01389</td>\n",
       "      <td>24.99</td>\n",
       "      <td>74.08</td>\n",
       "      <td>20.57</td>\n",
       "      <td>0.1812</td>\n",
       "      <td>0.1238</td>\n",
       "      <td>0.1866</td>\n",
       "      <td>0</td>\n",
       "    </tr>\n",
       "    <tr>\n",
       "      <th>2</th>\n",
       "      <td>21.25</td>\n",
       "      <td>1709.0</td>\n",
       "      <td>0.2430</td>\n",
       "      <td>0.1974</td>\n",
       "      <td>130.00</td>\n",
       "      <td>0.7456</td>\n",
       "      <td>4.585</td>\n",
       "      <td>25.53</td>\n",
       "      <td>0.006150</td>\n",
       "      <td>M</td>\n",
       "      <td>...</td>\n",
       "      <td>0.05999</td>\n",
       "      <td>0.7869</td>\n",
       "      <td>0.02250</td>\n",
       "      <td>23.57</td>\n",
       "      <td>94.03</td>\n",
       "      <td>19.69</td>\n",
       "      <td>0.2069</td>\n",
       "      <td>0.1444</td>\n",
       "      <td>0.4245</td>\n",
       "      <td>0</td>\n",
       "    </tr>\n",
       "    <tr>\n",
       "      <th>3</th>\n",
       "      <td>20.38</td>\n",
       "      <td>567.7</td>\n",
       "      <td>0.2575</td>\n",
       "      <td>0.2414</td>\n",
       "      <td>77.58</td>\n",
       "      <td>0.4956</td>\n",
       "      <td>3.445</td>\n",
       "      <td>26.50</td>\n",
       "      <td>0.009110</td>\n",
       "      <td>M</td>\n",
       "      <td>...</td>\n",
       "      <td>0.09744</td>\n",
       "      <td>1.1560</td>\n",
       "      <td>0.05963</td>\n",
       "      <td>14.91</td>\n",
       "      <td>27.23</td>\n",
       "      <td>11.42</td>\n",
       "      <td>0.2597</td>\n",
       "      <td>0.2098</td>\n",
       "      <td>0.8663</td>\n",
       "      <td>0</td>\n",
       "    </tr>\n",
       "    <tr>\n",
       "      <th>4</th>\n",
       "      <td>14.34</td>\n",
       "      <td>1575.0</td>\n",
       "      <td>0.1625</td>\n",
       "      <td>0.1980</td>\n",
       "      <td>135.10</td>\n",
       "      <td>0.7572</td>\n",
       "      <td>5.438</td>\n",
       "      <td>16.67</td>\n",
       "      <td>0.011490</td>\n",
       "      <td>M</td>\n",
       "      <td>...</td>\n",
       "      <td>0.05883</td>\n",
       "      <td>0.7813</td>\n",
       "      <td>0.01756</td>\n",
       "      <td>22.54</td>\n",
       "      <td>94.44</td>\n",
       "      <td>20.29</td>\n",
       "      <td>0.1809</td>\n",
       "      <td>0.1374</td>\n",
       "      <td>0.2050</td>\n",
       "      <td>0</td>\n",
       "    </tr>\n",
       "  </tbody>\n",
       "</table>\n",
       "<p>5 rows × 33 columns</p>\n",
       "</div>"
      ],
      "text/plain": [
       "   texture_mean  area_worst  concave points_worst  concavity_mean  \\\n",
       "0         10.38      2019.0                0.2654          0.3001   \n",
       "1         17.77      1956.0                0.1860          0.0869   \n",
       "2         21.25      1709.0                0.2430          0.1974   \n",
       "3         20.38       567.7                0.2575          0.2414   \n",
       "4         14.34      1575.0                0.1625          0.1980   \n",
       "\n",
       "   perimeter_mean  radius_se  perimeter_se  texture_worst  smoothness_se  \\\n",
       "0          122.80     1.0950         8.589          17.33       0.006399   \n",
       "1          132.90     0.5435         3.398          23.41       0.005225   \n",
       "2          130.00     0.7456         4.585          25.53       0.006150   \n",
       "3           77.58     0.4956         3.445          26.50       0.009110   \n",
       "4          135.10     0.7572         5.438          16.67       0.011490   \n",
       "\n",
       "  diagnosis  ...  fractal_dimension_mean  texture_se  symmetry_se  \\\n",
       "0         M  ...                 0.07871      0.9053      0.03003   \n",
       "1         M  ...                 0.05667      0.7339      0.01389   \n",
       "2         M  ...                 0.05999      0.7869      0.02250   \n",
       "3         M  ...                 0.09744      1.1560      0.05963   \n",
       "4         M  ...                 0.05883      0.7813      0.01756   \n",
       "\n",
       "   radius_worst  area_se  radius_mean  symmetry_mean  smoothness_worst  \\\n",
       "0         25.38   153.40        17.99         0.2419            0.1622   \n",
       "1         24.99    74.08        20.57         0.1812            0.1238   \n",
       "2         23.57    94.03        19.69         0.2069            0.1444   \n",
       "3         14.91    27.23        11.42         0.2597            0.2098   \n",
       "4         22.54    94.44        20.29         0.1809            0.1374   \n",
       "\n",
       "   compactness_worst  cancer_type  \n",
       "0             0.6656            0  \n",
       "1             0.1866            0  \n",
       "2             0.4245            0  \n",
       "3             0.8663            0  \n",
       "4             0.2050            0  \n",
       "\n",
       "[5 rows x 33 columns]"
      ]
     },
     "execution_count": 49,
     "metadata": {},
     "output_type": "execute_result"
    }
   ],
   "source": [
    "# Convert cancer type into a new column\n",
    "dataset_column_shuffled[\"cancer_type\"] = pd.factorize(dataset_column_shuffled[\"diagnosis\"])[0]\n",
    "dataset_column_shuffled.head()\n",
    "\n",
    "# Malignant is 0 and Benign is 1"
   ]
  },
  {
   "cell_type": "code",
   "execution_count": 50,
   "metadata": {},
   "outputs": [],
   "source": [
    "# Remove ID and diagnosis from the dataset\n",
    "dataset_column_shuffled.drop(['id', 'diagnosis'], axis=1, inplace=True)"
   ]
  },
  {
   "cell_type": "code",
   "execution_count": 51,
   "metadata": {},
   "outputs": [
    {
     "name": "stdout",
     "output_type": "stream",
     "text": [
      "Empty DataFrame\n",
      "Columns: [texture_mean, area_worst, concave points_worst, concavity_mean, perimeter_mean, radius_se, perimeter_se, texture_worst, smoothness_se, area_mean, symmetry_worst, perimeter_worst, compactness_se, smoothness_mean, fractal_dimension_worst, concave points_se, concavity_se, compactness_mean, concavity_worst, fractal_dimension_se, concave points_mean, fractal_dimension_mean, texture_se, symmetry_se, radius_worst, area_se, radius_mean, symmetry_mean, smoothness_worst, compactness_worst, cancer_type]\n",
      "Index: []\n",
      "\n",
      "[0 rows x 31 columns]\n"
     ]
    },
    {
     "data": {
      "text/html": [
       "<div>\n",
       "<style scoped>\n",
       "    .dataframe tbody tr th:only-of-type {\n",
       "        vertical-align: middle;\n",
       "    }\n",
       "\n",
       "    .dataframe tbody tr th {\n",
       "        vertical-align: top;\n",
       "    }\n",
       "\n",
       "    .dataframe thead th {\n",
       "        text-align: right;\n",
       "    }\n",
       "</style>\n",
       "<table border=\"1\" class=\"dataframe\">\n",
       "  <thead>\n",
       "    <tr style=\"text-align: right;\">\n",
       "      <th></th>\n",
       "      <th>texture_mean</th>\n",
       "      <th>area_worst</th>\n",
       "      <th>concave points_worst</th>\n",
       "      <th>concavity_mean</th>\n",
       "      <th>perimeter_mean</th>\n",
       "      <th>radius_se</th>\n",
       "      <th>perimeter_se</th>\n",
       "      <th>texture_worst</th>\n",
       "      <th>smoothness_se</th>\n",
       "      <th>area_mean</th>\n",
       "      <th>...</th>\n",
       "      <th>fractal_dimension_mean</th>\n",
       "      <th>texture_se</th>\n",
       "      <th>symmetry_se</th>\n",
       "      <th>radius_worst</th>\n",
       "      <th>area_se</th>\n",
       "      <th>radius_mean</th>\n",
       "      <th>symmetry_mean</th>\n",
       "      <th>smoothness_worst</th>\n",
       "      <th>compactness_worst</th>\n",
       "      <th>cancer_type</th>\n",
       "    </tr>\n",
       "  </thead>\n",
       "  <tbody>\n",
       "    <tr>\n",
       "      <th>0</th>\n",
       "      <td>10.38</td>\n",
       "      <td>2019.0</td>\n",
       "      <td>0.2654</td>\n",
       "      <td>0.3001</td>\n",
       "      <td>122.80</td>\n",
       "      <td>1.0950</td>\n",
       "      <td>8.589</td>\n",
       "      <td>17.33</td>\n",
       "      <td>0.006399</td>\n",
       "      <td>1001.0</td>\n",
       "      <td>...</td>\n",
       "      <td>0.07871</td>\n",
       "      <td>0.9053</td>\n",
       "      <td>0.03003</td>\n",
       "      <td>25.38</td>\n",
       "      <td>153.40</td>\n",
       "      <td>17.99</td>\n",
       "      <td>0.2419</td>\n",
       "      <td>0.1622</td>\n",
       "      <td>0.6656</td>\n",
       "      <td>0</td>\n",
       "    </tr>\n",
       "    <tr>\n",
       "      <th>1</th>\n",
       "      <td>17.77</td>\n",
       "      <td>1956.0</td>\n",
       "      <td>0.1860</td>\n",
       "      <td>0.0869</td>\n",
       "      <td>132.90</td>\n",
       "      <td>0.5435</td>\n",
       "      <td>3.398</td>\n",
       "      <td>23.41</td>\n",
       "      <td>0.005225</td>\n",
       "      <td>1326.0</td>\n",
       "      <td>...</td>\n",
       "      <td>0.05667</td>\n",
       "      <td>0.7339</td>\n",
       "      <td>0.01389</td>\n",
       "      <td>24.99</td>\n",
       "      <td>74.08</td>\n",
       "      <td>20.57</td>\n",
       "      <td>0.1812</td>\n",
       "      <td>0.1238</td>\n",
       "      <td>0.1866</td>\n",
       "      <td>0</td>\n",
       "    </tr>\n",
       "    <tr>\n",
       "      <th>2</th>\n",
       "      <td>21.25</td>\n",
       "      <td>1709.0</td>\n",
       "      <td>0.2430</td>\n",
       "      <td>0.1974</td>\n",
       "      <td>130.00</td>\n",
       "      <td>0.7456</td>\n",
       "      <td>4.585</td>\n",
       "      <td>25.53</td>\n",
       "      <td>0.006150</td>\n",
       "      <td>1203.0</td>\n",
       "      <td>...</td>\n",
       "      <td>0.05999</td>\n",
       "      <td>0.7869</td>\n",
       "      <td>0.02250</td>\n",
       "      <td>23.57</td>\n",
       "      <td>94.03</td>\n",
       "      <td>19.69</td>\n",
       "      <td>0.2069</td>\n",
       "      <td>0.1444</td>\n",
       "      <td>0.4245</td>\n",
       "      <td>0</td>\n",
       "    </tr>\n",
       "    <tr>\n",
       "      <th>3</th>\n",
       "      <td>20.38</td>\n",
       "      <td>567.7</td>\n",
       "      <td>0.2575</td>\n",
       "      <td>0.2414</td>\n",
       "      <td>77.58</td>\n",
       "      <td>0.4956</td>\n",
       "      <td>3.445</td>\n",
       "      <td>26.50</td>\n",
       "      <td>0.009110</td>\n",
       "      <td>386.1</td>\n",
       "      <td>...</td>\n",
       "      <td>0.09744</td>\n",
       "      <td>1.1560</td>\n",
       "      <td>0.05963</td>\n",
       "      <td>14.91</td>\n",
       "      <td>27.23</td>\n",
       "      <td>11.42</td>\n",
       "      <td>0.2597</td>\n",
       "      <td>0.2098</td>\n",
       "      <td>0.8663</td>\n",
       "      <td>0</td>\n",
       "    </tr>\n",
       "    <tr>\n",
       "      <th>4</th>\n",
       "      <td>14.34</td>\n",
       "      <td>1575.0</td>\n",
       "      <td>0.1625</td>\n",
       "      <td>0.1980</td>\n",
       "      <td>135.10</td>\n",
       "      <td>0.7572</td>\n",
       "      <td>5.438</td>\n",
       "      <td>16.67</td>\n",
       "      <td>0.011490</td>\n",
       "      <td>1297.0</td>\n",
       "      <td>...</td>\n",
       "      <td>0.05883</td>\n",
       "      <td>0.7813</td>\n",
       "      <td>0.01756</td>\n",
       "      <td>22.54</td>\n",
       "      <td>94.44</td>\n",
       "      <td>20.29</td>\n",
       "      <td>0.1809</td>\n",
       "      <td>0.1374</td>\n",
       "      <td>0.2050</td>\n",
       "      <td>0</td>\n",
       "    </tr>\n",
       "  </tbody>\n",
       "</table>\n",
       "<p>5 rows × 31 columns</p>\n",
       "</div>"
      ],
      "text/plain": [
       "   texture_mean  area_worst  concave points_worst  concavity_mean  \\\n",
       "0         10.38      2019.0                0.2654          0.3001   \n",
       "1         17.77      1956.0                0.1860          0.0869   \n",
       "2         21.25      1709.0                0.2430          0.1974   \n",
       "3         20.38       567.7                0.2575          0.2414   \n",
       "4         14.34      1575.0                0.1625          0.1980   \n",
       "\n",
       "   perimeter_mean  radius_se  perimeter_se  texture_worst  smoothness_se  \\\n",
       "0          122.80     1.0950         8.589          17.33       0.006399   \n",
       "1          132.90     0.5435         3.398          23.41       0.005225   \n",
       "2          130.00     0.7456         4.585          25.53       0.006150   \n",
       "3           77.58     0.4956         3.445          26.50       0.009110   \n",
       "4          135.10     0.7572         5.438          16.67       0.011490   \n",
       "\n",
       "   area_mean  ...  fractal_dimension_mean  texture_se  symmetry_se  \\\n",
       "0     1001.0  ...                 0.07871      0.9053      0.03003   \n",
       "1     1326.0  ...                 0.05667      0.7339      0.01389   \n",
       "2     1203.0  ...                 0.05999      0.7869      0.02250   \n",
       "3      386.1  ...                 0.09744      1.1560      0.05963   \n",
       "4     1297.0  ...                 0.05883      0.7813      0.01756   \n",
       "\n",
       "   radius_worst  area_se  radius_mean  symmetry_mean  smoothness_worst  \\\n",
       "0         25.38   153.40        17.99         0.2419            0.1622   \n",
       "1         24.99    74.08        20.57         0.1812            0.1238   \n",
       "2         23.57    94.03        19.69         0.2069            0.1444   \n",
       "3         14.91    27.23        11.42         0.2597            0.2098   \n",
       "4         22.54    94.44        20.29         0.1809            0.1374   \n",
       "\n",
       "   compactness_worst  cancer_type  \n",
       "0             0.6656            0  \n",
       "1             0.1866            0  \n",
       "2             0.4245            0  \n",
       "3             0.8663            0  \n",
       "4             0.2050            0  \n",
       "\n",
       "[5 rows x 31 columns]"
      ]
     },
     "execution_count": 51,
     "metadata": {},
     "output_type": "execute_result"
    }
   ],
   "source": [
    "# Drop NA rows because in first one we shouldn't use NA\n",
    "dropped_dataset_column_shuffled = dataset_column_shuffled.dropna()\n",
    "\n",
    "print(dropped_dataset_column_shuffled[dropped_dataset_column_shuffled.isna().any(axis=1)])\n",
    "dropped_dataset_column_shuffled.head()\n",
    "# feature_engineered_dataset_column_shuffled.head()"
   ]
  },
  {
   "cell_type": "code",
   "execution_count": 52,
   "metadata": {},
   "outputs": [
    {
     "name": "stdout",
     "output_type": "stream",
     "text": [
      "Shape of Benign Training Data (incl. output column): (209, 31)\n",
      "Shape of Malignant Training Data (incl. output column): (168, 31)\n"
     ]
    }
   ],
   "source": [
    "fldm2 = FisherLDA(dataset=dropped_dataset_column_shuffled)"
   ]
  },
  {
   "cell_type": "code",
   "execution_count": 53,
   "metadata": {},
   "outputs": [],
   "source": [
    "w = fldm2.train()"
   ]
  },
  {
   "cell_type": "code",
   "execution_count": 54,
   "metadata": {},
   "outputs": [
    {
     "data": {
      "text/plain": [
       "array([1, 1, 0, 1, 1, 1, 1, 1, 0, 1, 1, 1, 0, 1, 1, 0, 0, 1, 1, 1, 1, 1,\n",
       "       1, 0, 1, 1, 1, 1, 1, 1, 1, 0, 1, 1, 1, 1, 1, 0, 1, 1, 0, 1, 1, 1,\n",
       "       1, 1, 1, 1, 1, 1, 1, 1, 1, 0, 1, 0, 0, 1, 0, 1, 1, 1, 1, 1, 0, 1,\n",
       "       1, 0, 1, 0, 1, 1, 0, 1, 0, 1, 1, 1, 1, 1, 1, 1, 1, 0, 0, 1, 1, 1,\n",
       "       1, 1, 1, 0, 1, 1, 1, 1, 1, 1, 1, 1, 1, 1, 0, 1, 1, 1, 1, 1, 1, 1,\n",
       "       0, 1, 0, 1, 1, 0, 1, 1, 1, 1, 1, 0, 0, 1, 0, 1, 0, 1, 1, 1, 1, 1,\n",
       "       0, 1, 1, 0, 1, 0, 1, 0, 0, 1, 1, 1, 0, 1, 1, 1, 1, 1, 1, 1, 1, 1,\n",
       "       0, 0, 1, 1, 1, 1, 1, 1, 1, 1, 1, 1, 1, 1, 1, 1, 1, 1, 1, 1, 1, 1,\n",
       "       1, 1, 1, 0, 0, 0, 0, 0, 0, 1], dtype=int64)"
      ]
     },
     "execution_count": 54,
     "metadata": {},
     "output_type": "execute_result"
    }
   ],
   "source": [
    "fldm2.y_test"
   ]
  },
  {
   "cell_type": "code",
   "execution_count": 55,
   "metadata": {},
   "outputs": [
    {
     "name": "stdout",
     "output_type": "stream",
     "text": [
      "Training Predicted: [0, 0, 0, 0, 0, 0, 0, 0, 0, 0, 0, 0, 0, 0, 0, 0, 0, 0, 0, 1, 1, 1, 0, 0, 0, 0, 0, 0, 0, 0, 0, 0, 0, 0, 0, 0, 0, 1, 1, 0, 1, 0, 0, 0, 0, 0, 1, 0, 1, 1, 1, 1, 1, 0, 0, 1, 0, 0, 1, 1, 1, 1, 0, 1, 0, 0, 1, 1, 1, 1, 0, 1, 0, 0, 1, 0, 1, 0, 0, 1, 1, 0, 0, 0, 1, 0, 0, 0, 1, 1, 1, 0, 1, 1, 0, 0, 1, 1, 1, 0, 0, 1, 1, 1, 1, 0, 1, 1, 0, 1, 1, 1, 1, 1, 1, 1, 1, 0, 0, 0, 1, 0, 0, 1, 1, 1, 0, 0, 1, 0, 1, 0, 0, 1, 0, 1, 1, 1, 0, 1, 1, 0, 1, 1, 1, 1, 0, 1, 1, 1, 1, 1, 1, 1, 1, 1, 0, 1, 1, 1, 1, 0, 0, 1, 0, 1, 1, 0, 0, 1, 1, 0, 0, 1, 1, 1, 1, 0, 1, 1, 0, 0, 0, 1, 0, 1, 0, 1, 1, 1, 0, 1, 1, 0, 1, 1, 0, 1, 0, 0, 1, 0, 0, 0, 1, 0, 1, 0, 1, 1, 0, 1, 0, 0, 0, 0, 1, 1, 0, 0, 1, 1, 1, 0, 1, 1, 1, 1, 1, 0, 0, 1, 1, 0, 1, 1, 0, 0, 1, 0, 1, 1, 1, 1, 0, 1, 1, 1, 1, 1, 0, 1, 0, 0, 0, 0, 0, 0, 0, 0, 0, 0, 0, 1, 0, 0, 1, 1, 1, 1, 1, 1, 0, 1, 0, 1, 1, 0, 1, 1, 0, 1, 0, 0, 1, 1, 1, 1, 1, 1, 1, 1, 1, 1, 1, 1, 1, 1, 1, 1, 0, 1, 0, 1, 1, 1, 1, 1, 1, 1, 1, 1, 1, 1, 1, 1, 1, 0, 1, 1, 1, 0, 1, 0, 1, 1, 1, 1, 0, 0, 0, 1, 1, 1, 1, 0, 1, 0, 1, 0, 1, 1, 1, 0, 1, 1, 1, 0, 1, 1, 1, 0, 0, 0, 1, 1, 1, 1, 1, 1, 1, 1, 1, 1, 1, 0, 0, 1, 0, 0, 0, 1, 0, 0, 1, 1, 1]\n"
     ]
    },
    {
     "data": {
      "text/plain": [
       "0.9761273209549072"
      ]
     },
     "execution_count": 55,
     "metadata": {},
     "output_type": "execute_result"
    }
   ],
   "source": [
    "fldm2.check_training_accuracy()"
   ]
  },
  {
   "cell_type": "code",
   "execution_count": 56,
   "metadata": {},
   "outputs": [
    {
     "name": "stdout",
     "output_type": "stream",
     "text": [
      "Testing Predicted: [1, 1, 0, 1, 1, 1, 1, 1, 0, 1, 1, 1, 0, 1, 1, 0, 0, 1, 1, 1, 1, 1, 1, 0, 1, 1, 1, 1, 1, 1, 1, 0, 1, 1, 1, 1, 0, 0, 1, 1, 0, 1, 1, 1, 1, 1, 1, 1, 1, 1, 1, 1, 1, 0, 1, 0, 0, 1, 0, 1, 1, 1, 1, 1, 0, 1, 1, 0, 1, 0, 1, 1, 0, 1, 0, 1, 1, 1, 0, 1, 1, 1, 1, 0, 0, 1, 1, 1, 1, 1, 1, 0, 1, 1, 1, 1, 1, 1, 1, 1, 1, 1, 0, 1, 1, 1, 1, 1, 1, 1, 0, 1, 0, 1, 1, 0, 1, 1, 1, 1, 1, 0, 0, 1, 0, 1, 0, 1, 1, 1, 1, 1, 0, 1, 1, 0, 1, 1, 1, 0, 0, 1, 1, 1, 0, 1, 1, 1, 1, 1, 1, 1, 1, 1, 0, 0, 1, 1, 1, 1, 0, 0, 1, 1, 1, 1, 1, 1, 1, 1, 1, 1, 1, 1, 1, 1, 1, 1, 1, 0, 0, 0, 0, 0, 0, 1]\n"
     ]
    },
    {
     "data": {
      "text/plain": [
       "0.9731182795698925"
      ]
     },
     "execution_count": 56,
     "metadata": {},
     "output_type": "execute_result"
    }
   ],
   "source": [
    "fldm2.check_testing_accuracy()"
   ]
  },
  {
   "cell_type": "code",
   "execution_count": 57,
   "metadata": {},
   "outputs": [
    {
     "data": {
      "text/plain": [
       "(0.9731182795698925, 0.9928571428571429, 0.9823321554770317, 0.972027972027972)"
      ]
     },
     "execution_count": 57,
     "metadata": {},
     "output_type": "execute_result"
    }
   ],
   "source": [
    "fldm2.show_confusion_matrix()\n"
   ]
  },
  {
   "cell_type": "code",
   "execution_count": 58,
   "metadata": {},
   "outputs": [
    {
     "data": {
      "image/png": "[encoded data removed]",
      "text/plain": [
       "<Figure size 640x480 with 1 Axes>"
      ]
     },
     "metadata": {},
     "output_type": "display_data"
    }
   ],
   "source": [
    "fldm2.plot_normal_distribution()"
   ]
  },
  {
   "attachments": {},
   "cell_type": "markdown",
   "metadata": {},
   "source": [
    "# FLDM2 with Normalized Dataset"
   ]
  },
  {
   "cell_type": "code",
   "execution_count": 59,
   "metadata": {},
   "outputs": [
    {
     "name": "stdout",
     "output_type": "stream",
     "text": [
      "Shape of Benign Training Data (incl. output column): (212, 31)\n",
      "Shape of Malignant Training Data (incl. output column): (169, 31)\n"
     ]
    },
    {
     "name": "stderr",
     "output_type": "stream",
     "text": [
      "C:\\Users\\divya\\AppData\\Local\\Temp\\ipykernel_14996\\3350081143.py:20: SettingWithCopyWarning: \n",
      "A value is trying to be set on a copy of a slice from a DataFrame.\n",
      "Try using .loc[row_indexer,col_indexer] = value instead\n",
      "\n",
      "See the caveats in the documentation: https://pandas.pydata.org/pandas-docs/stable/user_guide/indexing.html#returning-a-view-versus-a-copy\n",
      "  self.training_dataset.iloc[:, :-1] = (self.training_dataset.iloc[:, :-1] - mean)/std\n",
      "C:\\Users\\divya\\AppData\\Local\\Temp\\ipykernel_14996\\3350081143.py:21: SettingWithCopyWarning: \n",
      "A value is trying to be set on a copy of a slice from a DataFrame.\n",
      "Try using .loc[row_indexer,col_indexer] = value instead\n",
      "\n",
      "See the caveats in the documentation: https://pandas.pydata.org/pandas-docs/stable/user_guide/indexing.html#returning-a-view-versus-a-copy\n",
      "  self.testing_dataset.iloc[:, :-1] = (self.testing_dataset.iloc[:, :-1] - mean)/std\n"
     ]
    }
   ],
   "source": [
    "fldm2_normalized = FisherLDA(dataset=dataset_column_shuffled, is_feature_engineered=1)"
   ]
  },
  {
   "cell_type": "code",
   "execution_count": 60,
   "metadata": {},
   "outputs": [],
   "source": [
    "w2_normalized = fldm2_normalized.train()"
   ]
  },
  {
   "cell_type": "code",
   "execution_count": 61,
   "metadata": {},
   "outputs": [
    {
     "data": {
      "text/plain": [
       "array([1, 1, 1, 1, 0, 1, 1, 1, 0, 1, 1, 0, 0, 1, 1, 1, 1, 1, 1, 0, 1, 1,\n",
       "       1, 1, 1, 1, 1, 0, 1, 1, 1, 1, 1, 0, 1, 1, 0, 1, 1, 1, 1, 1, 1, 1,\n",
       "       1, 1, 1, 1, 1, 0, 1, 0, 0, 1, 0, 1, 1, 1, 1, 1, 0, 1, 1, 0, 1, 0,\n",
       "       1, 1, 0, 1, 0, 1, 1, 1, 1, 1, 1, 1, 1, 0, 0, 1, 1, 1, 1, 1, 1, 0,\n",
       "       1, 1, 1, 1, 1, 1, 1, 1, 1, 1, 0, 1, 1, 1, 1, 1, 1, 1, 0, 1, 0, 1,\n",
       "       1, 0, 1, 1, 1, 1, 1, 0, 0, 1, 0, 1, 0, 1, 1, 1, 1, 1, 0, 1, 1, 0,\n",
       "       1, 0, 1, 0, 0, 1, 1, 1, 0, 1, 1, 1, 1, 1, 1, 1, 1, 1, 1, 1, 0, 1,\n",
       "       0, 0, 1, 1, 1, 1, 1, 1, 1, 1, 1, 1, 1, 1, 1, 1, 1, 1, 1, 1, 1, 1,\n",
       "       1, 1, 1, 1, 1, 0, 0, 0, 0, 0, 0, 1], dtype=int64)"
      ]
     },
     "execution_count": 61,
     "metadata": {},
     "output_type": "execute_result"
    }
   ],
   "source": [
    "fldm2_normalized.y_test"
   ]
  },
  {
   "cell_type": "code",
   "execution_count": 62,
   "metadata": {},
   "outputs": [
    {
     "name": "stdout",
     "output_type": "stream",
     "text": [
      "Training Predicted: [0, 0, 0, 0, 0, 0, 0, 0, 0, 0, 0, 0, 0, 0, 0, 0, 0, 0, 0, 1, 1, 1, 0, 0, 0, 0, 0, 0, 0, 0, 0, 0, 0, 0, 0, 0, 0, 1, 1, 0, 1, 0, 0, 0, 0, 0, 1, 0, 1, 1, 1, 1, 1, 0, 0, 1, 0, 0, 1, 1, 1, 1, 0, 1, 0, 0, 1, 1, 1, 1, 0, 1, 0, 1, 1, 0, 1, 0, 0, 1, 1, 0, 0, 0, 1, 0, 0, 0, 1, 1, 1, 0, 1, 1, 0, 0, 1, 1, 1, 0, 0, 1, 1, 1, 1, 0, 1, 1, 0, 1, 1, 1, 1, 1, 1, 1, 1, 0, 0, 0, 1, 0, 0, 1, 1, 1, 0, 0, 1, 0, 1, 0, 0, 1, 0, 1, 1, 1, 0, 1, 1, 0, 1, 1, 1, 1, 0, 1, 1, 1, 1, 1, 1, 1, 1, 1, 0, 1, 1, 1, 1, 0, 0, 1, 0, 1, 1, 0, 0, 1, 1, 0, 0, 1, 1, 1, 1, 0, 1, 1, 0, 0, 0, 1, 0, 1, 0, 1, 1, 1, 0, 1, 1, 0, 1, 1, 0, 1, 0, 0, 1, 0, 0, 0, 1, 0, 1, 0, 1, 1, 0, 1, 0, 0, 0, 0, 1, 1, 0, 0, 1, 1, 1, 0, 1, 1, 1, 1, 1, 0, 0, 1, 1, 0, 1, 1, 0, 0, 1, 0, 1, 1, 1, 1, 0, 1, 1, 1, 1, 1, 0, 1, 0, 0, 0, 0, 0, 0, 0, 0, 0, 0, 0, 1, 0, 0, 1, 1, 1, 1, 1, 1, 0, 1, 0, 1, 1, 0, 1, 1, 0, 1, 0, 0, 1, 1, 1, 1, 1, 1, 1, 1, 1, 1, 1, 1, 1, 1, 1, 1, 0, 1, 0, 1, 1, 1, 1, 1, 1, 1, 1, 1, 1, 1, 1, 1, 1, 0, 1, 1, 1, 0, 1, 0, 1, 1, 1, 1, 0, 0, 0, 1, 1, 1, 1, 0, 1, 0, 1, 0, 1, 1, 1, 0, 1, 1, 1, 1, 1, 1, 1, 0, 0, 0, 1, 1, 1, 1, 1, 1, 1, 1, 1, 1, 1, 0, 0, 1, 0, 0, 0, 1, 0, 0, 1, 1, 1, 1, 1, 0, 1]\n"
     ]
    },
    {
     "data": {
      "text/plain": [
       "0.9763779527559056"
      ]
     },
     "execution_count": 62,
     "metadata": {},
     "output_type": "execute_result"
    }
   ],
   "source": [
    "fldm2_normalized.check_training_accuracy()"
   ]
  },
  {
   "cell_type": "code",
   "execution_count": 63,
   "metadata": {},
   "outputs": [
    {
     "name": "stdout",
     "output_type": "stream",
     "text": [
      "Testing Predicted: [1, 1, 1, 1, 0, 1, 1, 1, 0, 1, 1, 0, 0, 1, 1, 1, 1, 1, 1, 0, 1, 1, 1, 1, 1, 1, 1, 0, 1, 1, 1, 1, 0, 0, 1, 1, 0, 1, 1, 1, 1, 1, 1, 1, 1, 1, 1, 1, 1, 0, 1, 0, 0, 1, 0, 1, 1, 1, 1, 1, 0, 1, 1, 0, 1, 0, 1, 1, 0, 1, 0, 1, 1, 1, 0, 1, 1, 1, 1, 0, 0, 1, 1, 1, 1, 1, 1, 0, 1, 1, 1, 1, 1, 1, 1, 1, 1, 1, 0, 1, 1, 1, 1, 1, 1, 1, 0, 1, 0, 1, 1, 0, 1, 1, 1, 1, 1, 0, 0, 1, 0, 1, 0, 1, 1, 1, 1, 1, 0, 1, 1, 0, 1, 1, 1, 0, 0, 1, 1, 1, 0, 1, 1, 1, 1, 1, 1, 1, 1, 1, 1, 1, 0, 1, 0, 0, 1, 1, 1, 1, 0, 0, 1, 1, 1, 1, 1, 0, 1, 1, 1, 1, 1, 1, 1, 1, 1, 1, 1, 1, 1, 0, 0, 0, 0, 0, 0, 1]\n"
     ]
    },
    {
     "data": {
      "text/plain": [
       "0.9680851063829787"
      ]
     },
     "execution_count": 63,
     "metadata": {},
     "output_type": "execute_result"
    }
   ],
   "source": [
    "fldm2_normalized.check_testing_accuracy()"
   ]
  },
  {
   "cell_type": "code",
   "execution_count": 65,
   "metadata": {},
   "outputs": [
    {
     "data": {
      "text/plain": [
       "(0.9680851063829787,\n",
       " 0.9929078014184397,\n",
       " 0.9790209790209791,\n",
       " 0.9655172413793104)"
      ]
     },
     "execution_count": 65,
     "metadata": {},
     "output_type": "execute_result"
    }
   ],
   "source": [
    "fldm2_normalized.show_confusion_matrix()"
   ]
  },
  {
   "cell_type": "code",
   "execution_count": 66,
   "metadata": {},
   "outputs": [
    {
     "data": {
      "image/png": "[encoded data removed]",
      "text/plain": [
       "<Figure size 640x480 with 1 Axes>"
      ]
     },
     "metadata": {},
     "output_type": "display_data"
    }
   ],
   "source": [
    "fldm2_normalized.plot_normal_distribution()"
   ]
  },
  {
   "attachments": {},
   "cell_type": "markdown",
   "metadata": {},
   "source": [
    "# Looping for 10 times and dying"
   ]
  },
  {
   "cell_type": "code",
   "execution_count": 67,
   "metadata": {},
   "outputs": [],
   "source": [
    "%%capture\n",
    "fldm1_details = {\n",
    "    \"training_accuracy\": 0,\n",
    "    \"accuracy_avg\": 0,\n",
    "    \"precision_avg\": 0,\n",
    "    \"f1_avg\": 0,\n",
    "    \"recall_avg\": 0\n",
    "}\n",
    "fldm1_normalized_details = {\n",
    "    \"training_accuracy\": 0,\n",
    "    \"accuracy_avg\": 0,\n",
    "    \"precision_avg\": 0,\n",
    "    \"f1_avg\": 0,\n",
    "    \"recall_avg\": 0\n",
    "}\n",
    "fldm2_details = {\n",
    "    \"training_accuracy\": 0,\n",
    "    \"accuracy_avg\": 0,\n",
    "    \"precision_avg\": 0,\n",
    "    \"f1_avg\": 0,\n",
    "    \"recall_avg\": 0\n",
    "}\n",
    "fldm2_normalized_details = {\n",
    "    \"training_accuracy\": 0,\n",
    "    \"accuracy_avg\": 0,\n",
    "    \"precision_avg\": 0,\n",
    "    \"f1_avg\": 0,\n",
    "    \"recall_avg\": 0\n",
    "}\n",
    "\n",
    "for _ in range(10):\n",
    "    # Read the csv file\n",
    "    dataset = pd.read_csv('../dataset.csv')\n",
    "    dataset = dataset.sample(frac=1)\n",
    "\n",
    "    # Shuffling the dataset column wise\n",
    "    dataset_column_shuffled = dataset.sample(frac=1, axis=1)\n",
    "    # Convert cancer type into a new column\n",
    "    dataset_column_shuffled[\"cancer_type\"] = pd.factorize(\n",
    "        dataset_column_shuffled[\"diagnosis\"])[0]\n",
    "    # Malignant is 0 and Benign is 1\n",
    "    # Remove ID and diagnosis from the dataset\n",
    "    dataset_column_shuffled.drop(['id', 'diagnosis'], axis=1, inplace=True)\n",
    "    \n",
    "    # Drop NA rows because in first one we shouldn't use NA\n",
    "    dropped_dataset_column_shuffled = dataset_column_shuffled.dropna()\n",
    "\n",
    "    # Convert cancer type into a new column\n",
    "    dataset[\"cancer_type\"] = pd.factorize(dataset[\"diagnosis\"])[0]\n",
    "    # Malignant is 0 and Benign is 1\n",
    "    # Remove ID and diagnosis from the dataset\n",
    "    dataset.drop(['id', 'diagnosis'], axis=1, inplace=True)\n",
    "    \n",
    "    # Drop NA rows because in first one we shouldn't use NA\n",
    "    dropped_dataset = dataset.dropna()\n",
    "\n",
    "    # FLDM1\n",
    "    fldm1 = FisherLDA(dataset=dropped_dataset)\n",
    "    fldm1.train()\n",
    "    fldm1.check_testing_accuracy()\n",
    "    fldm1_details[\"training_accuracy\"] += fldm1.check_training_accuracy() / 10\n",
    "    fldm1_details[\"accuracy_avg\"] += fldm1.show_confusion_matrix()[0] / 10\n",
    "    fldm1_details[\"precision_avg\"] += fldm1.show_confusion_matrix()[1] / 10\n",
    "    fldm1_details[\"f1_avg\"] += fldm1.show_confusion_matrix()[2] / 10\n",
    "    fldm1_details[\"recall_avg\"] += fldm1.show_confusion_matrix()[3] / 10\n",
    "\n",
    "    # FLDM1 with Normalized Dataset\n",
    "    fldm1_normalized = FisherLDA(dataset=dataset, is_feature_engineered=1)\n",
    "    fldm1_normalized.train()\n",
    "    fldm1_normalized.check_testing_accuracy()\n",
    "    fldm1_normalized_details[\"training_accuracy\"] += fldm1_normalized.check_training_accuracy() / 10\n",
    "    fldm1_normalized_details[\"accuracy_avg\"] += fldm1_normalized.show_confusion_matrix()[\n",
    "        0] / 10\n",
    "    fldm1_normalized_details[\"precision_avg\"] += fldm1_normalized.show_confusion_matrix()[\n",
    "        1] / 10\n",
    "    fldm1_normalized_details[\"f1_avg\"] += fldm1_normalized.show_confusion_matrix()[\n",
    "        2] / 10\n",
    "    fldm1_normalized_details[\"recall_avg\"] += fldm1_normalized.show_confusion_matrix()[\n",
    "        3] / 10\n",
    "\n",
    "    # FLDM2\n",
    "    fldm2 = FisherLDA(dataset=dropped_dataset_column_shuffled)\n",
    "    fldm2.train()\n",
    "    fldm2.check_testing_accuracy()\n",
    "    fldm2_details[\"training_accuracy\"] += fldm2.check_training_accuracy() / 10\n",
    "    fldm2_details[\"accuracy_avg\"] += fldm2.show_confusion_matrix()[0] / 10\n",
    "    fldm2_details[\"precision_avg\"] += fldm2.show_confusion_matrix()[1] / 10\n",
    "    fldm2_details[\"f1_avg\"] += fldm2.show_confusion_matrix()[2] / 10\n",
    "    fldm2_details[\"recall_avg\"] += fldm2.show_confusion_matrix()[3] / 10\n",
    "\n",
    "    # FLDM2 with Normalized Dataset\n",
    "    fldm2_normalized = FisherLDA(\n",
    "        dataset=dataset_column_shuffled, is_feature_engineered=1)\n",
    "    fldm2_normalized.train()\n",
    "    fldm2_normalized.check_testing_accuracy()\n",
    "    fldm2_normalized_details[\"training_accuracy\"] += fldm2_normalized.check_training_accuracy() / 10\n",
    "    fldm2_normalized_details[\"accuracy_avg\"] += fldm2_normalized.show_confusion_matrix()[\n",
    "        0] / 10\n",
    "    fldm2_normalized_details[\"precision_avg\"] += fldm2_normalized.show_confusion_matrix()[\n",
    "        1] / 10\n",
    "    fldm2_normalized_details[\"f1_avg\"] += fldm2_normalized.show_confusion_matrix()[\n",
    "        2] / 10\n",
    "    fldm2_normalized_details[\"recall_avg\"] += fldm2_normalized.show_confusion_matrix()[\n",
    "        3] / 10"
   ]
  },
  {
   "cell_type": "code",
   "execution_count": 68,
   "metadata": {},
   "outputs": [
    {
     "name": "stdout",
     "output_type": "stream",
     "text": [
      "fldm1_details={'training_accuracy': 0.976392572944297, 'accuracy_avg': 0.9634408602150537, 'precision_avg': 0.964993333025935, 'f1_avg': 0.9567048236269872, 'recall_avg': 0.9500945167458673}\n",
      "fldm1_normalized_details={'training_accuracy': 0.9761154855643045, 'accuracy_avg': 0.9638297872340426, 'precision_avg': 0.9629827763078569, 'f1_avg': 0.956816903809444, 'recall_avg': 0.952001299586156}\n",
      "fldm2_details={'training_accuracy': 0.976392572944297, 'accuracy_avg': 0.9634408602150537, 'precision_avg': 0.964993333025935, 'f1_avg': 0.9567048236269872, 'recall_avg': 0.9500945167458673}\n",
      "fldm2_normalized_details={'training_accuracy': 0.9761154855643045, 'accuracy_avg': 0.9638297872340426, 'precision_avg': 0.9629827763078569, 'f1_avg': 0.956816903809444, 'recall_avg': 0.952001299586156}\n"
     ]
    }
   ],
   "source": [
    "print(f\"{fldm1_details=}\")\n",
    "print(f\"{fldm1_normalized_details=}\")\n",
    "print(f\"{fldm2_details=}\")\n",
    "print(f\"{fldm2_normalized_details=}\")"
   ]
  }
 ],
 "metadata": {
  "kernelspec": {
   "display_name": "Python 3",
   "language": "python",
   "name": "python3"
  },
  "language_info": {
   "codemirror_mode": {
    "name": "ipython",
    "version": 3
   },
   "file_extension": ".py",
   "mimetype": "text/x-python",
   "name": "python",
   "nbconvert_exporter": "python",
   "pygments_lexer": "ipython3",
   "version": "3.9.13"
  },
  "orig_nbformat": 4,
  "vscode": {
   "interpreter": {
    "hash": "916dbcbb3f70747c44a77c7bcd40155683ae19c65e1c03b4aa3499c5328201f1"
   }
  }
 },
 "nbformat": 4,
 "nbformat_minor": 2
}
